{
 "cells": [
  {
   "cell_type": "markdown",
   "metadata": {},
   "source": [
    "# Get the main Seed2LP solution analyses\n",
    "This notebook presents the global data of seed2lp, such as number of networks having solutions, number of networks having at least one solution validating FBA, number of networks with all solution validating FBA.\n",
    "\n",
    "To run correctly this notebook and have the same results as the paper, you must first download the raw results here: [https://doi.org/10.57745/OS1JND](https://doi.org/10.57745/OS1JND)\n",
    "\n",
    "This notebook is written with the hierarchy of downloaded files, if you want to try it with the test form the run notebooks, it is needed to first restructure your data to match the hierarchy of downloaded files.\n",
    "\n",
    "We suppose here that the downloaded files are in a directory named \"analyses\", this directory path can be changed to your directory path where the data are saved."
   ]
  },
  {
   "cell_type": "markdown",
   "metadata": {},
   "source": [
    "# Variable to change (if wanted)"
   ]
  },
  {
   "cell_type": "code",
   "execution_count": 1,
   "metadata": {},
   "outputs": [],
   "source": [
    "analyse_dir = \"../../analyses\""
   ]
  },
  {
   "cell_type": "markdown",
   "metadata": {},
   "source": [
    "# Initialisation and functions"
   ]
  },
  {
   "cell_type": "code",
   "execution_count": 2,
   "metadata": {},
   "outputs": [],
   "source": [
    "import pandas as pd\n",
    "import os"
   ]
  },
  {
   "cell_type": "code",
   "execution_count": 3,
   "metadata": {},
   "outputs": [],
   "source": [
    "s2lp_results_reas_dir = os.path.join(analyse_dir, \"results\", \"s2lp_reasoning\")\n",
    "s2lp_results_hyb_cobra_dir = os.path.join(analyse_dir, \"results\", \"s2lp_hyb_cobra\")"
   ]
  },
  {
   "cell_type": "code",
   "execution_count": 4,
   "metadata": {},
   "outputs": [],
   "source": [
    "def get_fluxes(directory:str, mode:str, optim:str=None):\n",
    "    flux_all=pd.DataFrame(columns=['species', 'biomass_reaction', 'solver_type', 'search_mode',\n",
    "                                     'search_type', 'accumulation', 'model', 'size', 'lp_flux', 'cobra_flux_init',\n",
    "                                     'cobra_flux_no_import', 'cobra_flux_seeds', 'cobra_flux_demands',\n",
    "                                     'has_flux', 'has_flux_seeds', 'has_flux_demands', 'timer'])\n",
    "    flux_all['accumulation'] = flux_all['accumulation'].astype('bool')\n",
    "    flux_all['has_flux'] = flux_all['has_flux'].astype('bool')\n",
    "    flux_all['has_flux_seeds'] = flux_all['has_flux_seeds'].astype('bool')\n",
    "    flux_all['has_flux_demands'] = flux_all['has_flux_demands'].astype('bool')\n",
    "\n",
    "    for dirpath, _, filenames in os.walk(directory):\n",
    "        for filename in [f for f in filenames if (f.endswith(\"_fluxes.tsv\") or f.endswith(\"_fluxes_from_result.tsv\"))]:\n",
    "            # By default in this notebook we want the no accumulation mode for seed2lp results\n",
    "            if  \"_no_accu_\" in filename \\\n",
    "                and   ((mode == \"full\" and \"_fn_\" in filename) \\\n",
    "                    or (mode == \"target\" and \"_tgt_\" in filename))\\\n",
    "                or mode == \"netseed\":\n",
    "                file_path=os.path.join(dirpath, filename)\n",
    "                current_df = pd.read_csv(file_path, sep='\\t', lineterminator='\\n')\n",
    "                current_df['accumulation'] = current_df['accumulation'].astype('bool')\n",
    "                current_df['has_flux'] = current_df['has_flux'].astype('bool')\n",
    "                current_df['has_flux_seeds'] = current_df['has_flux_seeds'].astype('bool')\n",
    "                current_df['has_flux_demands'] = current_df['has_flux_demands'].astype('bool')\n",
    "                flux_all=pd.concat([flux_all if not flux_all.empty else None, current_df], ignore_index=True)\n",
    "    flux_all = flux_all[flux_all[\"model\"]!=\"model_one_solution\"]\n",
    "    flux_all = flux_all[flux_all[\"model\"]!=\"model_one_solution\"]\n",
    "    if optim==\"submin\":\n",
    "        return flux_all[flux_all[\"search_mode\"]==\"Subset Minimal\"]\n",
    "    elif optim==\"min\":\n",
    "        return flux_all[flux_all[\"search_mode\"]==\"Minimize\"]\n",
    "    else:\n",
    "        return flux_all"
   ]
  },
  {
   "cell_type": "code",
   "execution_count": 5,
   "metadata": {},
   "outputs": [],
   "source": [
    "def get_all_same_validation_fba(table, type):\n",
    "    count=0\n",
    "    total=0\n",
    "    for _,line in table.iterrows():\n",
    "        if line[type] == line[\"Total_flux\"]:\n",
    "            count += 1\n",
    "            total += 1\n",
    "        else:\n",
    "            total += 1\n",
    "    return total, count\n",
    "\n",
    "def get_mixed(table):\n",
    "    count=0\n",
    "    for _,line in table.iterrows():\n",
    "        if line[\"False_flux\"] != line[\"Total_flux\"] and line[\"True_flux\"] != line[\"Total_flux\"] :\n",
    "            count += 1\n",
    "    return count"
   ]
  },
  {
   "cell_type": "code",
   "execution_count": 6,
   "metadata": {},
   "outputs": [],
   "source": [
    "def get_separate_data(table_reasoning, table_hybrid):\n",
    "    table_hybrid[\"solver_type\"] = table_hybrid[\"solver_type\"].str.replace('REASONING  GUESS-CHECK-DIVERSITY', 'REASONING GUESS-CHECK DIVERSITY')\n",
    "    table_hybrid[\"solver_type\"] = table_hybrid[\"solver_type\"].str.replace('REASONING  GUESS-CHECK', 'REASONING GUESS-CHECK')\n",
    "    table_hybrid[\"solver_type\"] = table_hybrid[\"solver_type\"].str.replace('REASONING  FILTER', 'REASONING FILTER')\n",
    "\n",
    "    # CLASSIC\n",
    "    table_reasoning = table_reasoning[table_reasoning[\"solver_type\"]==\"REASONING\"]\n",
    "    \n",
    "    # FILTER\n",
    "    table_filter = table_hybrid[table_hybrid[\"solver_type\"]==\"REASONING FILTER\"]\n",
    "\n",
    "    # GUESS_CHECK\n",
    "    table_gc = table_hybrid[table_hybrid[\"solver_type\"]==\"REASONING GUESS-CHECK\"]\n",
    "\n",
    "    # GUESS_CHECK_DIV\n",
    "    table_gcd = table_hybrid[table_hybrid[\"solver_type\"]==\"REASONING GUESS-CHECK DIVERSITY\"]\n",
    "\n",
    "    return table_reasoning, table_filter, table_gc, table_gcd"
   ]
  },
  {
   "cell_type": "code",
   "execution_count": 7,
   "metadata": {},
   "outputs": [],
   "source": [
    "def create_table_plot(table,column_name):\n",
    "    new_table = table.groupby(['species'])[column_name].agg('count').reset_index()\n",
    "    new_table=new_table.rename(columns={column_name: \"Total_flux\"})\n",
    "    new_true = table[table[column_name]==True].groupby(['species'])[column_name].agg('count').reset_index()\n",
    "    new_true=new_true.rename(columns={column_name: \"True_flux\"})\n",
    "    new_false = table[table[column_name]==False].groupby(['species'])[column_name].agg('count').reset_index()\n",
    "    new_false=new_false.rename(columns={column_name: \"False_flux\"})\n",
    "    new_table=pd.merge(new_table,new_true, how='left', on=['species'])\n",
    "    new_table=pd.merge(new_table,new_false, how='left', on=['species'])\n",
    "    new_table=new_table.fillna(0)\n",
    "    new_table=new_table.fillna(0)\n",
    "    new_table['True_flux']=new_table['True_flux'].astype(int)\n",
    "    new_table['False_flux']=new_table['False_flux'].astype(int)\n",
    "    return new_table"
   ]
  },
  {
   "cell_type": "code",
   "execution_count": 8,
   "metadata": {},
   "outputs": [],
   "source": [
    "def get_sol_FBA_data(table_reasoning, table_filter, table_gc, table_gcd):\n",
    "    # CLASSIC\n",
    "    nb_networks_reasoning, all_true_reasoning,  = get_all_same_validation_fba(table_reasoning, \"True_flux\")\n",
    "    mixed_reasoning = get_mixed(table_reasoning)\n",
    "    \n",
    "    # FILTER\n",
    "    nb_networks_filter, all_true_filter,  = get_all_same_validation_fba(table_filter, \"True_flux\")\n",
    "    mixed_filter = get_mixed(table_filter)\n",
    "\n",
    "    # GUESS_CHECK\n",
    "    nb_networks_gc, all_true_gc,  = get_all_same_validation_fba(table_gc, \"True_flux\")\n",
    "    mixed_gc = get_mixed(table_gc)\n",
    "\n",
    "    # GUESS_CHECK_DIV\n",
    "    nb_networks_gcd, all_true_gcd,  = get_all_same_validation_fba(table_gcd, \"True_flux\")\n",
    "    mixed_gcd = get_mixed(table_gcd)\n",
    "\n",
    "    df = pd.DataFrame([[\"Reasoning\", nb_networks_reasoning, mixed_reasoning, all_true_reasoning],\n",
    "                       [\"Hybrid-filter\", nb_networks_filter, mixed_filter, all_true_filter],\n",
    "                       [\"Hybrid-GC\", nb_networks_gc, mixed_gc, all_true_gc],\n",
    "                       [\"Hybrid-GC-Div\", nb_networks_gcd, mixed_gcd, all_true_gcd]],\n",
    "                       columns=[\"Solving mode\", \"Nb. of net. with sol.\", \"Nb. of net. with ≥ 1 sol. FBA\", \"Nb of net with all sol. FBA\"])\n",
    "    return df\n",
    "    \n"
   ]
  },
  {
   "cell_type": "markdown",
   "metadata": {},
   "source": [
    "# Get data"
   ]
  },
  {
   "cell_type": "code",
   "execution_count": 9,
   "metadata": {},
   "outputs": [],
   "source": [
    "flux_reasoning_target_submin = get_fluxes(s2lp_results_reas_dir, \"target\", \"submin\")"
   ]
  },
  {
   "cell_type": "code",
   "execution_count": 10,
   "metadata": {},
   "outputs": [
    {
     "name": "stderr",
     "output_type": "stream",
     "text": [
      "/tmp/ipykernel_38830/2993539488.py:24: FutureWarning: The behavior of DataFrame concatenation with empty or all-NA entries is deprecated. In a future version, this will no longer exclude empty or all-NA columns when determining the result dtypes. To retain the old behavior, exclude the relevant entries before the concat operation.\n",
      "  flux_all=pd.concat([flux_all if not flux_all.empty else None, current_df], ignore_index=True)\n",
      "/tmp/ipykernel_38830/2993539488.py:24: FutureWarning: The behavior of DataFrame concatenation with empty or all-NA entries is deprecated. In a future version, this will no longer exclude empty or all-NA columns when determining the result dtypes. To retain the old behavior, exclude the relevant entries before the concat operation.\n",
      "  flux_all=pd.concat([flux_all if not flux_all.empty else None, current_df], ignore_index=True)\n",
      "/tmp/ipykernel_38830/2993539488.py:24: FutureWarning: The behavior of DataFrame concatenation with empty or all-NA entries is deprecated. In a future version, this will no longer exclude empty or all-NA columns when determining the result dtypes. To retain the old behavior, exclude the relevant entries before the concat operation.\n",
      "  flux_all=pd.concat([flux_all if not flux_all.empty else None, current_df], ignore_index=True)\n",
      "/tmp/ipykernel_38830/2993539488.py:24: FutureWarning: The behavior of DataFrame concatenation with empty or all-NA entries is deprecated. In a future version, this will no longer exclude empty or all-NA columns when determining the result dtypes. To retain the old behavior, exclude the relevant entries before the concat operation.\n",
      "  flux_all=pd.concat([flux_all if not flux_all.empty else None, current_df], ignore_index=True)\n",
      "/tmp/ipykernel_38830/2993539488.py:24: FutureWarning: The behavior of DataFrame concatenation with empty or all-NA entries is deprecated. In a future version, this will no longer exclude empty or all-NA columns when determining the result dtypes. To retain the old behavior, exclude the relevant entries before the concat operation.\n",
      "  flux_all=pd.concat([flux_all if not flux_all.empty else None, current_df], ignore_index=True)\n",
      "/tmp/ipykernel_38830/2993539488.py:24: FutureWarning: The behavior of DataFrame concatenation with empty or all-NA entries is deprecated. In a future version, this will no longer exclude empty or all-NA columns when determining the result dtypes. To retain the old behavior, exclude the relevant entries before the concat operation.\n",
      "  flux_all=pd.concat([flux_all if not flux_all.empty else None, current_df], ignore_index=True)\n",
      "/tmp/ipykernel_38830/2993539488.py:24: FutureWarning: The behavior of DataFrame concatenation with empty or all-NA entries is deprecated. In a future version, this will no longer exclude empty or all-NA columns when determining the result dtypes. To retain the old behavior, exclude the relevant entries before the concat operation.\n",
      "  flux_all=pd.concat([flux_all if not flux_all.empty else None, current_df], ignore_index=True)\n",
      "/tmp/ipykernel_38830/2993539488.py:24: FutureWarning: The behavior of DataFrame concatenation with empty or all-NA entries is deprecated. In a future version, this will no longer exclude empty or all-NA columns when determining the result dtypes. To retain the old behavior, exclude the relevant entries before the concat operation.\n",
      "  flux_all=pd.concat([flux_all if not flux_all.empty else None, current_df], ignore_index=True)\n",
      "/tmp/ipykernel_38830/2993539488.py:24: FutureWarning: The behavior of DataFrame concatenation with empty or all-NA entries is deprecated. In a future version, this will no longer exclude empty or all-NA columns when determining the result dtypes. To retain the old behavior, exclude the relevant entries before the concat operation.\n",
      "  flux_all=pd.concat([flux_all if not flux_all.empty else None, current_df], ignore_index=True)\n",
      "/tmp/ipykernel_38830/2993539488.py:24: FutureWarning: The behavior of DataFrame concatenation with empty or all-NA entries is deprecated. In a future version, this will no longer exclude empty or all-NA columns when determining the result dtypes. To retain the old behavior, exclude the relevant entries before the concat operation.\n",
      "  flux_all=pd.concat([flux_all if not flux_all.empty else None, current_df], ignore_index=True)\n",
      "/tmp/ipykernel_38830/2993539488.py:24: FutureWarning: The behavior of DataFrame concatenation with empty or all-NA entries is deprecated. In a future version, this will no longer exclude empty or all-NA columns when determining the result dtypes. To retain the old behavior, exclude the relevant entries before the concat operation.\n",
      "  flux_all=pd.concat([flux_all if not flux_all.empty else None, current_df], ignore_index=True)\n",
      "/tmp/ipykernel_38830/2993539488.py:24: FutureWarning: The behavior of DataFrame concatenation with empty or all-NA entries is deprecated. In a future version, this will no longer exclude empty or all-NA columns when determining the result dtypes. To retain the old behavior, exclude the relevant entries before the concat operation.\n",
      "  flux_all=pd.concat([flux_all if not flux_all.empty else None, current_df], ignore_index=True)\n",
      "/tmp/ipykernel_38830/2993539488.py:24: FutureWarning: The behavior of DataFrame concatenation with empty or all-NA entries is deprecated. In a future version, this will no longer exclude empty or all-NA columns when determining the result dtypes. To retain the old behavior, exclude the relevant entries before the concat operation.\n",
      "  flux_all=pd.concat([flux_all if not flux_all.empty else None, current_df], ignore_index=True)\n",
      "/tmp/ipykernel_38830/2993539488.py:24: FutureWarning: The behavior of DataFrame concatenation with empty or all-NA entries is deprecated. In a future version, this will no longer exclude empty or all-NA columns when determining the result dtypes. To retain the old behavior, exclude the relevant entries before the concat operation.\n",
      "  flux_all=pd.concat([flux_all if not flux_all.empty else None, current_df], ignore_index=True)\n",
      "/tmp/ipykernel_38830/2993539488.py:24: FutureWarning: The behavior of DataFrame concatenation with empty or all-NA entries is deprecated. In a future version, this will no longer exclude empty or all-NA columns when determining the result dtypes. To retain the old behavior, exclude the relevant entries before the concat operation.\n",
      "  flux_all=pd.concat([flux_all if not flux_all.empty else None, current_df], ignore_index=True)\n",
      "/tmp/ipykernel_38830/2993539488.py:24: FutureWarning: The behavior of DataFrame concatenation with empty or all-NA entries is deprecated. In a future version, this will no longer exclude empty or all-NA columns when determining the result dtypes. To retain the old behavior, exclude the relevant entries before the concat operation.\n",
      "  flux_all=pd.concat([flux_all if not flux_all.empty else None, current_df], ignore_index=True)\n",
      "/tmp/ipykernel_38830/2993539488.py:24: FutureWarning: The behavior of DataFrame concatenation with empty or all-NA entries is deprecated. In a future version, this will no longer exclude empty or all-NA columns when determining the result dtypes. To retain the old behavior, exclude the relevant entries before the concat operation.\n",
      "  flux_all=pd.concat([flux_all if not flux_all.empty else None, current_df], ignore_index=True)\n",
      "/tmp/ipykernel_38830/2993539488.py:24: FutureWarning: The behavior of DataFrame concatenation with empty or all-NA entries is deprecated. In a future version, this will no longer exclude empty or all-NA columns when determining the result dtypes. To retain the old behavior, exclude the relevant entries before the concat operation.\n",
      "  flux_all=pd.concat([flux_all if not flux_all.empty else None, current_df], ignore_index=True)\n",
      "/tmp/ipykernel_38830/2993539488.py:24: FutureWarning: The behavior of DataFrame concatenation with empty or all-NA entries is deprecated. In a future version, this will no longer exclude empty or all-NA columns when determining the result dtypes. To retain the old behavior, exclude the relevant entries before the concat operation.\n",
      "  flux_all=pd.concat([flux_all if not flux_all.empty else None, current_df], ignore_index=True)\n",
      "/tmp/ipykernel_38830/2993539488.py:24: FutureWarning: The behavior of DataFrame concatenation with empty or all-NA entries is deprecated. In a future version, this will no longer exclude empty or all-NA columns when determining the result dtypes. To retain the old behavior, exclude the relevant entries before the concat operation.\n",
      "  flux_all=pd.concat([flux_all if not flux_all.empty else None, current_df], ignore_index=True)\n",
      "/tmp/ipykernel_38830/2993539488.py:24: FutureWarning: The behavior of DataFrame concatenation with empty or all-NA entries is deprecated. In a future version, this will no longer exclude empty or all-NA columns when determining the result dtypes. To retain the old behavior, exclude the relevant entries before the concat operation.\n",
      "  flux_all=pd.concat([flux_all if not flux_all.empty else None, current_df], ignore_index=True)\n",
      "/tmp/ipykernel_38830/2993539488.py:24: FutureWarning: The behavior of DataFrame concatenation with empty or all-NA entries is deprecated. In a future version, this will no longer exclude empty or all-NA columns when determining the result dtypes. To retain the old behavior, exclude the relevant entries before the concat operation.\n",
      "  flux_all=pd.concat([flux_all if not flux_all.empty else None, current_df], ignore_index=True)\n",
      "/tmp/ipykernel_38830/2993539488.py:24: FutureWarning: The behavior of DataFrame concatenation with empty or all-NA entries is deprecated. In a future version, this will no longer exclude empty or all-NA columns when determining the result dtypes. To retain the old behavior, exclude the relevant entries before the concat operation.\n",
      "  flux_all=pd.concat([flux_all if not flux_all.empty else None, current_df], ignore_index=True)\n",
      "/tmp/ipykernel_38830/2993539488.py:24: FutureWarning: The behavior of DataFrame concatenation with empty or all-NA entries is deprecated. In a future version, this will no longer exclude empty or all-NA columns when determining the result dtypes. To retain the old behavior, exclude the relevant entries before the concat operation.\n",
      "  flux_all=pd.concat([flux_all if not flux_all.empty else None, current_df], ignore_index=True)\n",
      "/tmp/ipykernel_38830/2993539488.py:24: FutureWarning: The behavior of DataFrame concatenation with empty or all-NA entries is deprecated. In a future version, this will no longer exclude empty or all-NA columns when determining the result dtypes. To retain the old behavior, exclude the relevant entries before the concat operation.\n",
      "  flux_all=pd.concat([flux_all if not flux_all.empty else None, current_df], ignore_index=True)\n",
      "/tmp/ipykernel_38830/2993539488.py:24: FutureWarning: The behavior of DataFrame concatenation with empty or all-NA entries is deprecated. In a future version, this will no longer exclude empty or all-NA columns when determining the result dtypes. To retain the old behavior, exclude the relevant entries before the concat operation.\n",
      "  flux_all=pd.concat([flux_all if not flux_all.empty else None, current_df], ignore_index=True)\n",
      "/tmp/ipykernel_38830/2993539488.py:24: FutureWarning: The behavior of DataFrame concatenation with empty or all-NA entries is deprecated. In a future version, this will no longer exclude empty or all-NA columns when determining the result dtypes. To retain the old behavior, exclude the relevant entries before the concat operation.\n",
      "  flux_all=pd.concat([flux_all if not flux_all.empty else None, current_df], ignore_index=True)\n",
      "/tmp/ipykernel_38830/2993539488.py:24: FutureWarning: The behavior of DataFrame concatenation with empty or all-NA entries is deprecated. In a future version, this will no longer exclude empty or all-NA columns when determining the result dtypes. To retain the old behavior, exclude the relevant entries before the concat operation.\n",
      "  flux_all=pd.concat([flux_all if not flux_all.empty else None, current_df], ignore_index=True)\n",
      "/tmp/ipykernel_38830/2993539488.py:24: FutureWarning: The behavior of DataFrame concatenation with empty or all-NA entries is deprecated. In a future version, this will no longer exclude empty or all-NA columns when determining the result dtypes. To retain the old behavior, exclude the relevant entries before the concat operation.\n",
      "  flux_all=pd.concat([flux_all if not flux_all.empty else None, current_df], ignore_index=True)\n",
      "/tmp/ipykernel_38830/2993539488.py:24: FutureWarning: The behavior of DataFrame concatenation with empty or all-NA entries is deprecated. In a future version, this will no longer exclude empty or all-NA columns when determining the result dtypes. To retain the old behavior, exclude the relevant entries before the concat operation.\n",
      "  flux_all=pd.concat([flux_all if not flux_all.empty else None, current_df], ignore_index=True)\n",
      "/tmp/ipykernel_38830/2993539488.py:24: FutureWarning: The behavior of DataFrame concatenation with empty or all-NA entries is deprecated. In a future version, this will no longer exclude empty or all-NA columns when determining the result dtypes. To retain the old behavior, exclude the relevant entries before the concat operation.\n",
      "  flux_all=pd.concat([flux_all if not flux_all.empty else None, current_df], ignore_index=True)\n",
      "/tmp/ipykernel_38830/2993539488.py:24: FutureWarning: The behavior of DataFrame concatenation with empty or all-NA entries is deprecated. In a future version, this will no longer exclude empty or all-NA columns when determining the result dtypes. To retain the old behavior, exclude the relevant entries before the concat operation.\n",
      "  flux_all=pd.concat([flux_all if not flux_all.empty else None, current_df], ignore_index=True)\n",
      "/tmp/ipykernel_38830/2993539488.py:24: FutureWarning: The behavior of DataFrame concatenation with empty or all-NA entries is deprecated. In a future version, this will no longer exclude empty or all-NA columns when determining the result dtypes. To retain the old behavior, exclude the relevant entries before the concat operation.\n",
      "  flux_all=pd.concat([flux_all if not flux_all.empty else None, current_df], ignore_index=True)\n",
      "/tmp/ipykernel_38830/2993539488.py:24: FutureWarning: The behavior of DataFrame concatenation with empty or all-NA entries is deprecated. In a future version, this will no longer exclude empty or all-NA columns when determining the result dtypes. To retain the old behavior, exclude the relevant entries before the concat operation.\n",
      "  flux_all=pd.concat([flux_all if not flux_all.empty else None, current_df], ignore_index=True)\n",
      "/tmp/ipykernel_38830/2993539488.py:24: FutureWarning: The behavior of DataFrame concatenation with empty or all-NA entries is deprecated. In a future version, this will no longer exclude empty or all-NA columns when determining the result dtypes. To retain the old behavior, exclude the relevant entries before the concat operation.\n",
      "  flux_all=pd.concat([flux_all if not flux_all.empty else None, current_df], ignore_index=True)\n",
      "/tmp/ipykernel_38830/2993539488.py:24: FutureWarning: The behavior of DataFrame concatenation with empty or all-NA entries is deprecated. In a future version, this will no longer exclude empty or all-NA columns when determining the result dtypes. To retain the old behavior, exclude the relevant entries before the concat operation.\n",
      "  flux_all=pd.concat([flux_all if not flux_all.empty else None, current_df], ignore_index=True)\n",
      "/tmp/ipykernel_38830/2993539488.py:24: FutureWarning: The behavior of DataFrame concatenation with empty or all-NA entries is deprecated. In a future version, this will no longer exclude empty or all-NA columns when determining the result dtypes. To retain the old behavior, exclude the relevant entries before the concat operation.\n",
      "  flux_all=pd.concat([flux_all if not flux_all.empty else None, current_df], ignore_index=True)\n",
      "/tmp/ipykernel_38830/2993539488.py:24: FutureWarning: The behavior of DataFrame concatenation with empty or all-NA entries is deprecated. In a future version, this will no longer exclude empty or all-NA columns when determining the result dtypes. To retain the old behavior, exclude the relevant entries before the concat operation.\n",
      "  flux_all=pd.concat([flux_all if not flux_all.empty else None, current_df], ignore_index=True)\n",
      "/tmp/ipykernel_38830/2993539488.py:24: FutureWarning: The behavior of DataFrame concatenation with empty or all-NA entries is deprecated. In a future version, this will no longer exclude empty or all-NA columns when determining the result dtypes. To retain the old behavior, exclude the relevant entries before the concat operation.\n",
      "  flux_all=pd.concat([flux_all if not flux_all.empty else None, current_df], ignore_index=True)\n",
      "/tmp/ipykernel_38830/2993539488.py:24: FutureWarning: The behavior of DataFrame concatenation with empty or all-NA entries is deprecated. In a future version, this will no longer exclude empty or all-NA columns when determining the result dtypes. To retain the old behavior, exclude the relevant entries before the concat operation.\n",
      "  flux_all=pd.concat([flux_all if not flux_all.empty else None, current_df], ignore_index=True)\n",
      "/tmp/ipykernel_38830/2993539488.py:24: FutureWarning: The behavior of DataFrame concatenation with empty or all-NA entries is deprecated. In a future version, this will no longer exclude empty or all-NA columns when determining the result dtypes. To retain the old behavior, exclude the relevant entries before the concat operation.\n",
      "  flux_all=pd.concat([flux_all if not flux_all.empty else None, current_df], ignore_index=True)\n",
      "/tmp/ipykernel_38830/2993539488.py:24: FutureWarning: The behavior of DataFrame concatenation with empty or all-NA entries is deprecated. In a future version, this will no longer exclude empty or all-NA columns when determining the result dtypes. To retain the old behavior, exclude the relevant entries before the concat operation.\n",
      "  flux_all=pd.concat([flux_all if not flux_all.empty else None, current_df], ignore_index=True)\n",
      "/tmp/ipykernel_38830/2993539488.py:24: FutureWarning: The behavior of DataFrame concatenation with empty or all-NA entries is deprecated. In a future version, this will no longer exclude empty or all-NA columns when determining the result dtypes. To retain the old behavior, exclude the relevant entries before the concat operation.\n",
      "  flux_all=pd.concat([flux_all if not flux_all.empty else None, current_df], ignore_index=True)\n",
      "/tmp/ipykernel_38830/2993539488.py:24: FutureWarning: The behavior of DataFrame concatenation with empty or all-NA entries is deprecated. In a future version, this will no longer exclude empty or all-NA columns when determining the result dtypes. To retain the old behavior, exclude the relevant entries before the concat operation.\n",
      "  flux_all=pd.concat([flux_all if not flux_all.empty else None, current_df], ignore_index=True)\n",
      "/tmp/ipykernel_38830/2993539488.py:24: FutureWarning: The behavior of DataFrame concatenation with empty or all-NA entries is deprecated. In a future version, this will no longer exclude empty or all-NA columns when determining the result dtypes. To retain the old behavior, exclude the relevant entries before the concat operation.\n",
      "  flux_all=pd.concat([flux_all if not flux_all.empty else None, current_df], ignore_index=True)\n",
      "/tmp/ipykernel_38830/2993539488.py:24: FutureWarning: The behavior of DataFrame concatenation with empty or all-NA entries is deprecated. In a future version, this will no longer exclude empty or all-NA columns when determining the result dtypes. To retain the old behavior, exclude the relevant entries before the concat operation.\n",
      "  flux_all=pd.concat([flux_all if not flux_all.empty else None, current_df], ignore_index=True)\n",
      "/tmp/ipykernel_38830/2993539488.py:24: FutureWarning: The behavior of DataFrame concatenation with empty or all-NA entries is deprecated. In a future version, this will no longer exclude empty or all-NA columns when determining the result dtypes. To retain the old behavior, exclude the relevant entries before the concat operation.\n",
      "  flux_all=pd.concat([flux_all if not flux_all.empty else None, current_df], ignore_index=True)\n",
      "/tmp/ipykernel_38830/2993539488.py:24: FutureWarning: The behavior of DataFrame concatenation with empty or all-NA entries is deprecated. In a future version, this will no longer exclude empty or all-NA columns when determining the result dtypes. To retain the old behavior, exclude the relevant entries before the concat operation.\n",
      "  flux_all=pd.concat([flux_all if not flux_all.empty else None, current_df], ignore_index=True)\n",
      "/tmp/ipykernel_38830/2993539488.py:24: FutureWarning: The behavior of DataFrame concatenation with empty or all-NA entries is deprecated. In a future version, this will no longer exclude empty or all-NA columns when determining the result dtypes. To retain the old behavior, exclude the relevant entries before the concat operation.\n",
      "  flux_all=pd.concat([flux_all if not flux_all.empty else None, current_df], ignore_index=True)\n",
      "/tmp/ipykernel_38830/2993539488.py:24: FutureWarning: The behavior of DataFrame concatenation with empty or all-NA entries is deprecated. In a future version, this will no longer exclude empty or all-NA columns when determining the result dtypes. To retain the old behavior, exclude the relevant entries before the concat operation.\n",
      "  flux_all=pd.concat([flux_all if not flux_all.empty else None, current_df], ignore_index=True)\n",
      "/tmp/ipykernel_38830/2993539488.py:24: FutureWarning: The behavior of DataFrame concatenation with empty or all-NA entries is deprecated. In a future version, this will no longer exclude empty or all-NA columns when determining the result dtypes. To retain the old behavior, exclude the relevant entries before the concat operation.\n",
      "  flux_all=pd.concat([flux_all if not flux_all.empty else None, current_df], ignore_index=True)\n",
      "/tmp/ipykernel_38830/2993539488.py:24: FutureWarning: The behavior of DataFrame concatenation with empty or all-NA entries is deprecated. In a future version, this will no longer exclude empty or all-NA columns when determining the result dtypes. To retain the old behavior, exclude the relevant entries before the concat operation.\n",
      "  flux_all=pd.concat([flux_all if not flux_all.empty else None, current_df], ignore_index=True)\n",
      "/tmp/ipykernel_38830/2993539488.py:24: FutureWarning: The behavior of DataFrame concatenation with empty or all-NA entries is deprecated. In a future version, this will no longer exclude empty or all-NA columns when determining the result dtypes. To retain the old behavior, exclude the relevant entries before the concat operation.\n",
      "  flux_all=pd.concat([flux_all if not flux_all.empty else None, current_df], ignore_index=True)\n",
      "/tmp/ipykernel_38830/2993539488.py:24: FutureWarning: The behavior of DataFrame concatenation with empty or all-NA entries is deprecated. In a future version, this will no longer exclude empty or all-NA columns when determining the result dtypes. To retain the old behavior, exclude the relevant entries before the concat operation.\n",
      "  flux_all=pd.concat([flux_all if not flux_all.empty else None, current_df], ignore_index=True)\n",
      "/tmp/ipykernel_38830/2993539488.py:24: FutureWarning: The behavior of DataFrame concatenation with empty or all-NA entries is deprecated. In a future version, this will no longer exclude empty or all-NA columns when determining the result dtypes. To retain the old behavior, exclude the relevant entries before the concat operation.\n",
      "  flux_all=pd.concat([flux_all if not flux_all.empty else None, current_df], ignore_index=True)\n",
      "/tmp/ipykernel_38830/2993539488.py:24: FutureWarning: The behavior of DataFrame concatenation with empty or all-NA entries is deprecated. In a future version, this will no longer exclude empty or all-NA columns when determining the result dtypes. To retain the old behavior, exclude the relevant entries before the concat operation.\n",
      "  flux_all=pd.concat([flux_all if not flux_all.empty else None, current_df], ignore_index=True)\n",
      "/tmp/ipykernel_38830/2993539488.py:24: FutureWarning: The behavior of DataFrame concatenation with empty or all-NA entries is deprecated. In a future version, this will no longer exclude empty or all-NA columns when determining the result dtypes. To retain the old behavior, exclude the relevant entries before the concat operation.\n",
      "  flux_all=pd.concat([flux_all if not flux_all.empty else None, current_df], ignore_index=True)\n",
      "/tmp/ipykernel_38830/2993539488.py:24: FutureWarning: The behavior of DataFrame concatenation with empty or all-NA entries is deprecated. In a future version, this will no longer exclude empty or all-NA columns when determining the result dtypes. To retain the old behavior, exclude the relevant entries before the concat operation.\n",
      "  flux_all=pd.concat([flux_all if not flux_all.empty else None, current_df], ignore_index=True)\n",
      "/tmp/ipykernel_38830/2993539488.py:24: FutureWarning: The behavior of DataFrame concatenation with empty or all-NA entries is deprecated. In a future version, this will no longer exclude empty or all-NA columns when determining the result dtypes. To retain the old behavior, exclude the relevant entries before the concat operation.\n",
      "  flux_all=pd.concat([flux_all if not flux_all.empty else None, current_df], ignore_index=True)\n",
      "/tmp/ipykernel_38830/2993539488.py:24: FutureWarning: The behavior of DataFrame concatenation with empty or all-NA entries is deprecated. In a future version, this will no longer exclude empty or all-NA columns when determining the result dtypes. To retain the old behavior, exclude the relevant entries before the concat operation.\n",
      "  flux_all=pd.concat([flux_all if not flux_all.empty else None, current_df], ignore_index=True)\n"
     ]
    }
   ],
   "source": [
    "flux_hyb_cobra_target_submin = get_fluxes(s2lp_results_hyb_cobra_dir, \"target\", \"submin\")"
   ]
  },
  {
   "cell_type": "code",
   "execution_count": 11,
   "metadata": {},
   "outputs": [],
   "source": [
    "flux_reasoning, flux_filter, flux_gc, flux_gcd = get_separate_data(flux_reasoning_target_submin, flux_hyb_cobra_target_submin)"
   ]
  },
  {
   "cell_type": "code",
   "execution_count": 12,
   "metadata": {},
   "outputs": [],
   "source": [
    "reasoning_flux=create_table_plot(flux_reasoning,'has_flux')\n",
    "filter_flux=create_table_plot(flux_filter,'has_flux')\n",
    "gc_flux=create_table_plot(flux_gc,'has_flux')\n",
    "gcd_flux=create_table_plot(flux_gcd,'has_flux')"
   ]
  },
  {
   "cell_type": "markdown",
   "metadata": {},
   "source": [
    "## Number of networks satisfying FBA constraints"
   ]
  },
  {
   "cell_type": "code",
   "execution_count": 13,
   "metadata": {},
   "outputs": [
    {
     "data": {
      "text/html": [
       "<div>\n",
       "<style scoped>\n",
       "    .dataframe tbody tr th:only-of-type {\n",
       "        vertical-align: middle;\n",
       "    }\n",
       "\n",
       "    .dataframe tbody tr th {\n",
       "        vertical-align: top;\n",
       "    }\n",
       "\n",
       "    .dataframe thead th {\n",
       "        text-align: right;\n",
       "    }\n",
       "</style>\n",
       "<table border=\"1\" class=\"dataframe\">\n",
       "  <thead>\n",
       "    <tr style=\"text-align: right;\">\n",
       "      <th></th>\n",
       "      <th>Solving mode</th>\n",
       "      <th>Nb. of net. with sol.</th>\n",
       "      <th>Nb. of net. with ≥ 1 sol. FBA</th>\n",
       "      <th>Nb of net with all sol. FBA</th>\n",
       "    </tr>\n",
       "  </thead>\n",
       "  <tbody>\n",
       "    <tr>\n",
       "      <th>0</th>\n",
       "      <td>Reasoning</td>\n",
       "      <td>107</td>\n",
       "      <td>73</td>\n",
       "      <td>10</td>\n",
       "    </tr>\n",
       "    <tr>\n",
       "      <th>1</th>\n",
       "      <td>Hybrid-filter</td>\n",
       "      <td>71</td>\n",
       "      <td>0</td>\n",
       "      <td>71</td>\n",
       "    </tr>\n",
       "    <tr>\n",
       "      <th>2</th>\n",
       "      <td>Hybrid-GC</td>\n",
       "      <td>90</td>\n",
       "      <td>0</td>\n",
       "      <td>90</td>\n",
       "    </tr>\n",
       "    <tr>\n",
       "      <th>3</th>\n",
       "      <td>Hybrid-GC-Div</td>\n",
       "      <td>98</td>\n",
       "      <td>0</td>\n",
       "      <td>98</td>\n",
       "    </tr>\n",
       "  </tbody>\n",
       "</table>\n",
       "</div>"
      ],
      "text/plain": [
       "    Solving mode  Nb. of net. with sol.  Nb. of net. with ≥ 1 sol. FBA  \\\n",
       "0      Reasoning                    107                             73   \n",
       "1  Hybrid-filter                     71                              0   \n",
       "2      Hybrid-GC                     90                              0   \n",
       "3  Hybrid-GC-Div                     98                              0   \n",
       "\n",
       "   Nb of net with all sol. FBA  \n",
       "0                           10  \n",
       "1                           71  \n",
       "2                           90  \n",
       "3                           98  "
      ]
     },
     "execution_count": 13,
     "metadata": {},
     "output_type": "execute_result"
    }
   ],
   "source": [
    "data = get_sol_FBA_data(reasoning_flux, filter_flux, gc_flux, gcd_flux)\n",
    "data"
   ]
  },
  {
   "cell_type": "code",
   "execution_count": 15,
   "metadata": {},
   "outputs": [
    {
     "name": "stdout",
     "output_type": "stream",
     "text": [
      "Reasoning - nb of networks with no sol FBA:  24\n"
     ]
    }
   ],
   "source": [
    "_, all_false  = get_all_same_validation_fba(reasoning_flux, \"False_flux\")\n",
    "print(\"Reasoning - nb of networks with no sol FBA: \",all_false)"
   ]
  }
 ],
 "metadata": {
  "kernelspec": {
   "display_name": "s2lp",
   "language": "python",
   "name": "python3"
  },
  "language_info": {
   "codemirror_mode": {
    "name": "ipython",
    "version": 3
   },
   "file_extension": ".py",
   "mimetype": "text/x-python",
   "name": "python",
   "nbconvert_exporter": "python",
   "pygments_lexer": "ipython3",
   "version": "3.10.14"
  }
 },
 "nbformat": 4,
 "nbformat_minor": 2
}
