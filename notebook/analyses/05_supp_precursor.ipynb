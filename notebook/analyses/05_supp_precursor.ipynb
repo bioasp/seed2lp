{
 "cells": [
  {
   "cell_type": "markdown",
   "metadata": {},
   "source": [
    "# Get Precursor results\n",
    "This notebook presents Precursor data in Full Network and Target Mode.\n",
    "\n",
    "\n",
    "To run correctly this notebook and have the same results as the paper, you must first download the raw results: [https://doi.org/10.57745/OS1JND](https://doi.org/10.57745/OS1JND)\n",
    "\n",
    "This notebook is written with the hierarchy of downloaded files, if you want to try it with the test form the run notebooks, it is needed to first restructure your data to match the hierarchy of downloaded files.\n",
    "\n",
    "We suppose here that the downloaded files are in a directory named \"analyses\", this directory path can be changed to your directory path where the data are saved."
   ]
  },
  {
   "cell_type": "markdown",
   "metadata": {},
   "source": [
    "## Requirements\n",
    "Module *numpy*, *seaborn* and *scipy* are needed"
   ]
  },
  {
   "cell_type": "code",
   "execution_count": null,
   "metadata": {},
   "outputs": [
    {
     "name": "stdout",
     "output_type": "stream",
     "text": [
      "Requirement already satisfied: numpy in /home/cghassem/miniconda3/envs/test/lib/python3.10/site-packages (2.1.1)\n"
     ]
    }
   ],
   "source": [
    "!pip install numpy"
   ]
  },
  {
   "cell_type": "code",
   "execution_count": null,
   "metadata": {},
   "outputs": [],
   "source": [
    "!pip install seaborn"
   ]
  },
  {
   "cell_type": "code",
   "execution_count": null,
   "metadata": {},
   "outputs": [],
   "source": [
    "!pip install scipy"
   ]
  },
  {
   "cell_type": "markdown",
   "metadata": {},
   "source": [
    "# Variable to change (if wanted)"
   ]
  },
  {
   "cell_type": "code",
   "execution_count": 1,
   "metadata": {},
   "outputs": [],
   "source": [
    "analyse_dir = \"../../analyses\""
   ]
  },
  {
   "cell_type": "markdown",
   "metadata": {},
   "source": [
    "# Initialisation and functions"
   ]
  },
  {
   "cell_type": "code",
   "execution_count": 2,
   "metadata": {},
   "outputs": [],
   "source": [
    "import os\n",
    "import pandas as pd\n",
    "import seaborn as sns\n",
    "import matplotlib.pyplot as plt\n",
    "from scipy.stats import kruskal\n",
    "import numpy as np"
   ]
  },
  {
   "cell_type": "code",
   "execution_count": 3,
   "metadata": {},
   "outputs": [],
   "source": [
    "precursor_results_dir = os.path.join(analyse_dir, \"results\", \"precursor_formated_results\")\n",
    "s2lp_supp_data = os.path.join(analyse_dir, \"results\", \"supp_data\", \"seed2lp_supp_data.tsv\")"
   ]
  },
  {
   "cell_type": "code",
   "execution_count": 4,
   "metadata": {},
   "outputs": [],
   "source": [
    "def get_fluxes(directory:str, mode:str):\n",
    "    flux_all=pd.DataFrame(columns=['species', 'biomass_reaction', 'solver_type', 'search_mode',\n",
    "                                     'search_type', 'accumulation', 'model', 'size', 'lp_flux', 'cobra_flux_init',\n",
    "                                     'cobra_flux_no_import', 'cobra_flux_seeds', 'cobra_flux_demands',\n",
    "                                     'has_flux', 'has_flux_seeds', 'has_flux_demands', 'timer'])\n",
    "    flux_all['accumulation'] = flux_all['accumulation'].astype('bool')\n",
    "    flux_all['has_flux'] = flux_all['has_flux'].astype('bool')\n",
    "    flux_all['has_flux_seeds'] = flux_all['has_flux_seeds'].astype('bool')\n",
    "    flux_all['has_flux_demands'] = flux_all['has_flux_demands'].astype('bool')\n",
    "\n",
    "    for dirpath, _, filenames in os.walk(directory):\n",
    "        for filename in [f for f in filenames if (f.endswith(\"_fluxes.tsv\") or f.endswith(\"_fluxes_from_result.tsv\"))]:\n",
    "            # By default in this notebook we want the no accumulation mode for seed2lp results\n",
    "            if  (mode == \"full\" and \"_fn_\" in filename) \\\n",
    "                or (mode == \"target\" and \"_tgt_\" in filename):\n",
    "                file_path=os.path.join(dirpath, filename)\n",
    "                current_df = pd.read_csv(file_path, sep='\\t', lineterminator='\\n')\n",
    "                current_df['accumulation'] = current_df['accumulation'].astype('bool')\n",
    "                current_df['has_flux'] = current_df['has_flux'].astype('bool')\n",
    "                current_df['has_flux_seeds'] = current_df['has_flux_seeds'].astype('bool')\n",
    "                current_df['has_flux_demands'] = current_df['has_flux_demands'].astype('bool')\n",
    "                flux_all=pd.concat([flux_all if not flux_all.empty else None, current_df], ignore_index=True)\n",
    "    return flux_all"
   ]
  },
  {
   "cell_type": "code",
   "execution_count": 5,
   "metadata": {},
   "outputs": [],
   "source": [
    "def get_sizes(flux_df:pd.DataFrame, nb_total_meta:pd.DataFrame):\n",
    "    list_mean_size = flux_df.groupby(['species'])['size'].mean()\n",
    "    mean_size_df = pd.DataFrame(list_mean_size)\n",
    "    data_size_df = pd.concat([nb_total_meta, mean_size_df], axis=1)\n",
    "    data_size_df[\"percent\"]=data_size_df[\"size\"] / data_size_df[\"number_metabolites\"] *100\n",
    "    data_size = pd.DataFrame(data_size_df[\"percent\"])\n",
    "    data_size=data_size.reset_index()\n",
    "    data_size=data_size.rename(columns={\"index\": \"species\"})\n",
    "    return data_size"
   ]
  },
  {
   "cell_type": "code",
   "execution_count": 6,
   "metadata": {},
   "outputs": [],
   "source": [
    "def get_total_nb_meta(supp_data_file):\n",
    "    table_all = pd.read_csv(supp_data_file, sep='\\t', lineterminator='\\n')\n",
    "    union_all = table_all.loc[table_all[\"type_data\"] == \"Union\"]\n",
    "    num_metabolite = union_all.groupby(['network'])['number_metabolites'].first()\n",
    "    return pd.DataFrame(num_metabolite)"
   ]
  },
  {
   "cell_type": "code",
   "execution_count": 7,
   "metadata": {},
   "outputs": [],
   "source": [
    "def create_table_plot(table,column_name):\n",
    "    new_table = table.groupby(['species'])[column_name].agg('count').reset_index()\n",
    "    new_table=new_table.rename(columns={column_name: \"Total_flux\"})\n",
    "    new_true = table[table[column_name]==True].groupby(['species'])[column_name].agg('count').reset_index()\n",
    "    new_true=new_true.rename(columns={column_name: \"True_flux\"})\n",
    "    new_false = table[table[column_name]==False].groupby(['species'])[column_name].agg('count').reset_index()\n",
    "    new_false=new_false.rename(columns={column_name: \"False_flux\"})\n",
    "    new_table=pd.merge(new_table,new_true, how='left', on=['species'])\n",
    "    new_table=pd.merge(new_table,new_false, how='left', on=['species'])\n",
    "    new_table=new_table.fillna(0)\n",
    "    new_table=new_table.fillna(0)\n",
    "    new_table['True_flux']=new_table['True_flux'].astype(int)\n",
    "    new_table['False_flux']=new_table['False_flux'].astype(int)\n",
    "    return new_table"
   ]
  },
  {
   "cell_type": "code",
   "execution_count": 8,
   "metadata": {},
   "outputs": [],
   "source": [
    "def get_all_same_validation_fba(table,type):\n",
    "    count=0\n",
    "    total=0\n",
    "    for _,line in table.iterrows():\n",
    "        if line[type] == line[\"Total_flux\"]:\n",
    "            count += 1\n",
    "            total += 1\n",
    "        else:\n",
    "            total += 1\n",
    "    \n",
    "    return total, count"
   ]
  },
  {
   "cell_type": "code",
   "execution_count": 9,
   "metadata": {},
   "outputs": [],
   "source": [
    "def create_one_plot(s2lp, netseed, labels):\n",
    "    plt.style.use(\"seaborn-v0_8-colorblind\")\n",
    "\n",
    "    _, s2lp_true_count = get_all_same_validation_fba(s2lp, \"True_flux\")\n",
    "    _, s2lp_false_count = get_all_same_validation_fba(s2lp,\"False_flux\")\n",
    "    s2lp_missing_networks = 107 - (s2lp_true_count + s2lp_false_count)\n",
    "\n",
    "    _, netseed_true_count =  get_all_same_validation_fba(netseed, \"True_flux\")\n",
    "    _, netseed_false_count = get_all_same_validation_fba(netseed, \"False_flux\")\n",
    "    netseed_missing_networks = 107 - (netseed_true_count + netseed_false_count)\n",
    "\n",
    "\n",
    "    s2lp_tab=pd.DataFrame([[s2lp_true_count, s2lp_false_count, s2lp_missing_networks]], \n",
    "                          columns=[\"all_true\",\"all_false\",\"missing\"])\n",
    "    s2lp_tab=s2lp_tab.assign(Tool=labels[0])\n",
    "\n",
    "    netseed_tab=pd.DataFrame([[netseed_true_count, netseed_false_count, netseed_missing_networks]],\n",
    "                              columns=[\"all_true\",\"all_false\",\"missing\"])\n",
    "    netseed_tab=netseed_tab.assign(Tool=labels[1])\n",
    "\n",
    "    concat_table = pd.concat([netseed_tab,s2lp_tab])\n",
    "\n",
    "\n",
    "    plt.figure(figsize=(1,3))\n",
    "    sns.set_theme(font_scale = 1.5)\n",
    "    fig, ax = plt.subplots()\n",
    "    fig.tight_layout()\n",
    "    groups = concat_table['Tool']\n",
    "    ax.bar(groups, concat_table[\"all_true\"], color='#1e73be',label='flux', width=0.2)\n",
    "    ax.bar(groups, concat_table[\"all_false\"], bottom = concat_table[\"all_true\"], \n",
    "           color='#ef3340', label='no flux', width=0.2)\n",
    "    ax.bar(groups, concat_table[\"missing\"], bottom = concat_table[\"all_true\"]+concat_table[\"all_false\"], \n",
    "           color='black', label='no solution', width=0.2)\n",
    "    \n",
    "    plt.ylabel('Number of GSMNs', fontsize=25)\n",
    "    plt.xlabel('Tools', fontsize=25)\n",
    "    plt.xticks(size=22)\n",
    "    plt.yticks(size=22)\n",
    "    #sns.despine(bottom=True)\n",
    "    plt.tick_params(bottom=False, left=True)\n",
    "    plt.legend(frameon=True,  loc='center right', borderaxespad=-10)\n",
    "    return "
   ]
  },
  {
   "cell_type": "code",
   "execution_count": 10,
   "metadata": {},
   "outputs": [],
   "source": [
    "def get_mean_std_deviation(table, tool):\n",
    "    mean = table[\"Total_flux\"].mean()\n",
    "    std = table[\"Total_flux\"].std()\n",
    "    print(tool, f\"mean = {mean}\",  f\"standard deviation = {std}\")"
   ]
  },
  {
   "cell_type": "code",
   "execution_count": 22,
   "metadata": {},
   "outputs": [],
   "source": [
    "def plot_compare(s2lp:pd.DataFrame, netseed:pd.DataFrame, col, labels, do_kruskal:bool=True, \n",
    "                 is_precursor:bool=False, y_label:str=\"\"):\n",
    "    np.set_printoptions(precision=3)\n",
    "    plt.style.use(\"seaborn-v0_8-colorblind\")\n",
    "\n",
    "\n",
    "    nan_spec=s2lp[s2lp[col].isnull()][\"species\"]\n",
    "    for nspe in nan_spec:\n",
    "        s2lp=s2lp.drop(s2lp.loc[s2lp['species']==nspe].index)\n",
    "\n",
    "    nan_spec=netseed[netseed[col].isnull()][\"species\"]\n",
    "    for nspe in nan_spec:\n",
    "        netseed=netseed.drop(netseed.loc[netseed['species']==nspe].index)\n",
    "\n",
    "    del_spec=set(netseed['species']) - set(s2lp['species'])\n",
    "    for sp in del_spec:\n",
    "        netseed=netseed.drop(netseed.loc[netseed['species']==sp].index)\n",
    "\n",
    "    n = len(s2lp['species'].unique())\n",
    "    \n",
    "    s2lp=s2lp.assign(Tool=labels[0])\n",
    "    netseed=netseed.assign(Tool=labels[1])\n",
    "    \n",
    "    concat_table = pd.concat([s2lp, netseed])\n",
    "\n",
    "    scope_tab = concat_table.groupby(['species','Tool'])[col].mean()\n",
    "    scope_df=pd.DataFrame(scope_tab)\n",
    "    scope_df=scope_df.reset_index()\n",
    "    plt.figure(figsize=(3,4))\n",
    "    sns.set_theme(font_scale = 1.5)\n",
    "\n",
    "    prec_fn_means= scope_df[scope_df['Tool']==labels[0]]\n",
    "    prec_t_means= scope_df[scope_df['Tool']==labels[1]]\n",
    "    prec_fn_mean=prec_fn_means[col].mean()\n",
    "    pref_t_means=prec_t_means[col].mean()\n",
    "    print(f\"{labels[0]} global mean: \",prec_fn_mean, f\"\\t {labels[1]} global mean: \", pref_t_means)\n",
    "\n",
    "    # KRUSKAL WALLIS TESTS\n",
    "    # Get the p-value from Kruskall Wallis test\n",
    "    if do_kruskal:\n",
    "        kstat, p_value = kruskal(scope_df[scope_df[\"Tool\"]==labels[1]][col], scope_df[scope_df[\"Tool\"]==labels[0]][col])\n",
    "\n",
    "    sns.boxplot(data=scope_df, x=\"Tool\", y=col, hue=\"Tool\", fill=False, linewidth=1.5)\n",
    "    plt.xlabel('')\n",
    "    plt.ylabel(y_label)\n",
    "    plt.title(f\"kstat = {kstat}, p-value = {p_value}, n={n}\")\n",
    "    sns.despine(bottom=True)\n",
    "        "
   ]
  },
  {
   "cell_type": "code",
   "execution_count": 28,
   "metadata": {},
   "outputs": [],
   "source": [
    "def get_min_max(tab, mode):\n",
    "    print(f'Set of seed size for {mode}\\n min: {tab[\"size\"].min()}\\tmax: {tab[\"size\"].max()}')"
   ]
  },
  {
   "cell_type": "code",
   "execution_count": 37,
   "metadata": {},
   "outputs": [],
   "source": [
    "def get_nb_and_percent_sol(tab, limit):\n",
    "    nb = len(tab[tab[\"Total_flux\"]<=limit])\n",
    "    print(f\"Number of GSMNs having less than {limit} solutions: {nb} networks ({nb/1.07} %)\")"
   ]
  },
  {
   "cell_type": "code",
   "execution_count": 51,
   "metadata": {},
   "outputs": [],
   "source": [
    "def get_iCN718_sol(tab:pd.DataFrame, mode):\n",
    "    tab=tab[tab[\"species\"]==\"iCN718\"]\n",
    "    nb = len(tab)\n",
    "    val_count = tab[\"size\"].value_counts()\n",
    "    print(f\"Total number of solutions for iCN718 in {mode}: {nb}\")\n",
    "    for row in val_count.items():\n",
    "        print(f\"size: {row[0]}\\t count: {row[1]}\")"
   ]
  },
  {
   "cell_type": "markdown",
   "metadata": {},
   "source": [
    "# Get data"
   ]
  },
  {
   "cell_type": "code",
   "execution_count": 12,
   "metadata": {},
   "outputs": [],
   "source": [
    "flux_precursor_FN_submin = get_fluxes(precursor_results_dir, \"full\")\n",
    "flux_precursor_T_submin = get_fluxes(precursor_results_dir, \"target\")"
   ]
  },
  {
   "cell_type": "code",
   "execution_count": 13,
   "metadata": {},
   "outputs": [],
   "source": [
    "nb_total_meta_df = get_total_nb_meta(s2lp_supp_data)"
   ]
  },
  {
   "cell_type": "code",
   "execution_count": 14,
   "metadata": {},
   "outputs": [],
   "source": [
    "data_size_FN = get_sizes(flux_precursor_FN_submin, nb_total_meta_df)\n",
    "data_size_T = get_sizes(flux_precursor_T_submin, nb_total_meta_df)"
   ]
  },
  {
   "cell_type": "code",
   "execution_count": 15,
   "metadata": {},
   "outputs": [],
   "source": [
    "FN_flux=create_table_plot(flux_precursor_FN_submin,'has_flux')\n",
    "T_flux=create_table_plot(flux_precursor_T_submin,'has_flux')"
   ]
  },
  {
   "cell_type": "markdown",
   "metadata": {},
   "source": [
    "# PLOT"
   ]
  },
  {
   "cell_type": "markdown",
   "metadata": {},
   "source": [
    "## Fluxes analyses"
   ]
  },
  {
   "cell_type": "markdown",
   "metadata": {},
   "source": [
    "### Mean and standard deviation"
   ]
  },
  {
   "cell_type": "code",
   "execution_count": 16,
   "metadata": {},
   "outputs": [
    {
     "name": "stdout",
     "output_type": "stream",
     "text": [
      "Full Network mean = 664.0560747663551 standard deviation = 465.29006639145047\n"
     ]
    }
   ],
   "source": [
    "get_mean_std_deviation(FN_flux, \"Full Network\")"
   ]
  },
  {
   "cell_type": "code",
   "execution_count": 17,
   "metadata": {},
   "outputs": [
    {
     "name": "stdout",
     "output_type": "stream",
     "text": [
      "Target mean = 56.205607476635514 standard deviation = 142.52373111353674\n"
     ]
    }
   ],
   "source": [
    "get_mean_std_deviation(T_flux, \"Target\")"
   ]
  },
  {
   "cell_type": "markdown",
   "metadata": {},
   "source": [
    "### Plot number of fluxes validating (all solutions validates) or not (none of solution validates) FBA"
   ]
  },
  {
   "cell_type": "code",
   "execution_count": 18,
   "metadata": {},
   "outputs": [
    {
     "data": {
      "text/plain": [
       "<Figure size 100x300 with 0 Axes>"
      ]
     },
     "metadata": {},
     "output_type": "display_data"
    },
    {
     "data": {
      "image/png": "[encoded data removed]",
      "text/plain": [
       "<Figure size 640x480 with 1 Axes>"
      ]
     },
     "metadata": {},
     "output_type": "display_data"
    }
   ],
   "source": [
    "create_one_plot(T_flux, FN_flux, [\"Target\",\"Full Network\"])"
   ]
  },
  {
   "cell_type": "markdown",
   "metadata": {},
   "source": [
    "## Set of seeds solution analyses"
   ]
  },
  {
   "cell_type": "markdown",
   "metadata": {},
   "source": [
    "> Notes:\n",
    ">\n",
    "> On the above plot, \"global mean\" is a mean of means per network (all solutions, up to 1000, are averaged by network, then an average of those is performed)"
   ]
  },
  {
   "cell_type": "code",
   "execution_count": 29,
   "metadata": {},
   "outputs": [
    {
     "name": "stdout",
     "output_type": "stream",
     "text": [
      "Set of seed size for Full Network\n",
      " min: 6\tmax: 285\n"
     ]
    }
   ],
   "source": [
    "get_min_max(flux_precursor_FN_submin, \"Full Network\")"
   ]
  },
  {
   "cell_type": "code",
   "execution_count": 30,
   "metadata": {},
   "outputs": [
    {
     "name": "stdout",
     "output_type": "stream",
     "text": [
      "Set of seed size for Target\n",
      " min: 1\tmax: 18\n"
     ]
    }
   ],
   "source": [
    "get_min_max(flux_precursor_T_submin, \"Target\")"
   ]
  },
  {
   "cell_type": "code",
   "execution_count": 38,
   "metadata": {},
   "outputs": [
    {
     "name": "stdout",
     "output_type": "stream",
     "text": [
      "Number of GSMNs having less than 8 solutions: 88 networks (82.2429906542056 %)\n"
     ]
    }
   ],
   "source": [
    "get_nb_and_percent_sol(T_flux,8)"
   ]
  },
  {
   "cell_type": "code",
   "execution_count": 23,
   "metadata": {},
   "outputs": [
    {
     "name": "stdout",
     "output_type": "stream",
     "text": [
      "Full Network global mean:  11.356633293864068 \t Target global mean:  0.228610193536069\n"
     ]
    },
    {
     "data": {
      "image/png": "[encoded data removed]",
      "text/plain": [
       "<Figure size 300x400 with 1 Axes>"
      ]
     },
     "metadata": {},
     "output_type": "display_data"
    }
   ],
   "source": [
    "plot_compare(data_size_FN, data_size_T, 'percent',  [\"Full Network\", \"Target\"], \n",
    "             y_label=\"Size of seed set\\n(%\\ of GSMN size)\")"
   ]
  },
  {
   "cell_type": "markdown",
   "metadata": {},
   "source": [
    "## iCN718 analyses"
   ]
  },
  {
   "cell_type": "code",
   "execution_count": 52,
   "metadata": {},
   "outputs": [
    {
     "name": "stdout",
     "output_type": "stream",
     "text": [
      "Total number of solutions for iCN718 in Full Network: 1\n",
      "size: 141\t count: 1\n"
     ]
    }
   ],
   "source": [
    "get_iCN718_sol(flux_precursor_FN_submin, \"Full Network\")"
   ]
  },
  {
   "cell_type": "code",
   "execution_count": 53,
   "metadata": {},
   "outputs": [
    {
     "name": "stdout",
     "output_type": "stream",
     "text": [
      "Total number of solutions for iCN718 in Target: 246\n",
      "size: 1\t count: 245\n",
      "size: 2\t count: 1\n"
     ]
    }
   ],
   "source": [
    "get_iCN718_sol(flux_precursor_T_submin, \"Target\")"
   ]
  }
 ],
 "metadata": {
  "kernelspec": {
   "display_name": "test",
   "language": "python",
   "name": "python3"
  },
  "language_info": {
   "codemirror_mode": {
    "name": "ipython",
    "version": 3
   },
   "file_extension": ".py",
   "mimetype": "text/x-python",
   "name": "python",
   "nbconvert_exporter": "python",
   "pygments_lexer": "ipython3",
   "version": "3.10.14"
  }
 },
 "nbformat": 4,
 "nbformat_minor": 2
}
