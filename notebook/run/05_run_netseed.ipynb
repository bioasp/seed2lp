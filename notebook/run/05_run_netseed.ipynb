{
 "cells": [
  {
   "cell_type": "markdown",
   "metadata": {},
   "source": [
    "# NetSeed: Get tool, run tool, get data"
   ]
  },
  {
   "cell_type": "markdown",
   "metadata": {},
   "source": [
    "NetSeed [Carr and Borenstein, 2012] is a tool from [Borenstein Lab]https://borensteinlab.sites.tau.ac.il/, usually available [here](https://borensteinlab.sites.tau.ac.il/items-1/netseed). The Perl version download link is not available anymore. This is a seed searching tool based on graph analyses.\n",
    "\n",
    "We downloaded the tool on 2022-01-19 and the tool is avaiblable in N2PComp archive: N2Pcomp/NetSeedPerl"
   ]
  },
  {
   "cell_type": "markdown",
   "metadata": {},
   "source": [
    "## BEFORE STARTING\n",
    "\n",
    "For the paper, NetSeed had been downloaded and integrated to a third part tool, called N2PComp, to make it easier to benchmark. N2PComp is used for launching NetSeed (and precursor) then generate output results file. \n",
    "\n",
    "N2Pcomp is available: [https://doi.org/10.57745/OS1JND](https://doi.org/10.57745/OS1JND)\n",
    "\n",
    "After downloading and unzipping the package, go to analyses/tools/N2PComp\n",
    "\n",
    "When N2PComp is downloaded, install it on a conda environment (advice for cluster scripts: call it s2lp)\n",
    "\n",
    "**STEPS**\n",
    "- On the console, go on the root of N2PComp directory: `cd [downloaded N2PComp direcotry]`\n",
    "- Install N2PComp using `pip install .`\n",
    "\n",
    "\n",
    "\n",
    "For the N2PComp to work, it is necessary to install precursor additionally.\n",
    "\n",
    "Go to analyses/tools/precursor/\n",
    "\n",
    "When precursor is downloaded, install it on the same conda environment \n",
    "\n",
    "**STEPS**\n",
    "- On the console, go on the root of precursor directory: `cd [downloaded precursor directory]`\n",
    "- Install precursor using `pip install .`\n",
    "\n",
    "\n",
    "\n",
    "N2PComp will execute NetSeed, and from NetSeed results it will produce result files partly compatible with Seed2LP, by performing a scalar product of sets composing sets of seed results."
   ]
  },
  {
   "cell_type": "markdown",
   "metadata": {},
   "source": [
    "## **WARNING**\n",
    "This notebook will run NetSeed using N2PComp with default parameters, limiting to 10 min or 30 solutions obtained.\n",
    "\n",
    "In the paper, the time limit is set to 45 min and number of solutions limit to 1000.\n",
    "\n",
    "To avoid a long running time in the notebook execution, the notebook will copy the normalised e_coli_core in a sbml directory on a path that you can change.\n",
    "\n",
    "> Note:\n",
    ">\n",
    "> - All result files from NetSeed search are available: [https://doi.org/10.57745/OS1JND](https://doi.org/10.57745/OS1JND)\n",
    ">    - go to analyses/results/netseed\n",
    "> - All formated result files from NetSeed search are availabl: [https://doi.org/10.57745/OS1JND](https://doi.org/10.57745/OS1JND)\n",
    ">    - go to analyses/results/netseed_formated_results\n",
    "\n",
    "Because of temporary file management reasons, it is best **not** to parallelise the NetSeed search through N2PComp."
   ]
  },
  {
   "cell_type": "markdown",
   "metadata": {},
   "source": [
    "## Requirements\n",
    "The Network must have been normalised before starting. See [04_normalise_network.ipynb](04_normalise_network.ipynb)\n",
    "\n",
    "N2PComp and precursor have to be installed on env conv: \n",
    "\n",
    "- Copy the downloaded N2PComp (which include NetSeedPerl package on the root of the direcotry, \"NetSeedPerl\" directory must be present)\n",
    "- Go on root of directory and install N2PComp using `pip install .`\n",
    "- Copy the downloaded precursor\n",
    "- Go on root of directory and install precursor using `pip install .`\n",
    "\n",
    "Seed2LP has to be installed.\n",
    "\n",
    "> Advice:\n",
    "> \n",
    "> Use a conda env called s2lp"
   ]
  },
  {
   "cell_type": "markdown",
   "metadata": {},
   "source": [
    "## **Slurm-based cluster**: Reproducing paper data\n",
    "Slurm-based scripts for cluster are available:\n",
    "- Launch if needed \n",
    "    - [04_job_run_sbml_normalisation.sh](../../scripts/plafrim_cluster/04_job_run_sbml_normalisation.sh): `sbatch 04_job_run_sbml_normalisation.sh`\n",
    "    - or copy your local files into you cluster\n",
    "- Change **_source_** variable by the path of your conda environment with tools-comparison installed in files: [05_1_job_run_n2pcomp_netseed.sh](../../scripts/plafrim_cluster/05_1_job_run_n2pcomp_netseed.sh) and on [05_2_job_format_netseed_results.sh](../../scripts/plafrim_cluster/05_2_job_format_netseed_results.sh)\n",
    "- launch [05_1_job_run_n2pcomp_netseed.sh](../../scripts/plafrim_cluster/05_1_job_run_n2pcomp_netseed.sh): `sbatch 05_1_job_run_n2pcomp_netseed.sh`\n",
    "- When the job is done, you can launch [05_2_job_format_netseed_results.sh](../../scripts/plafrim_cluster/05_2_job_format_netseed_results.sh): `sbatch 05_2_job_format_netseed_results.sh`"
   ]
  },
  {
   "cell_type": "markdown",
   "metadata": {},
   "source": [
    "## **LAUNCH**"
   ]
  },
  {
   "cell_type": "markdown",
   "metadata": {},
   "source": [
    "### Variable to change (if wanted)"
   ]
  },
  {
   "cell_type": "code",
   "execution_count": 1,
   "metadata": {},
   "outputs": [],
   "source": [
    "analyse_dir = \"../../analyses\"\n",
    "data_dir  = f\"{analyse_dir}/data/\"\n",
    "result_dir=f\"{analyse_dir}/results\"\n",
    "result_dir=f\"{analyse_dir}/tools/N2PComp\"\n",
    "#n2pcomp_dir=\"../../../N2PComp\"\n",
    "\n",
    "time_limit = 10 # time limit\n",
    "number_solution = 30 # number solutions"
   ]
  },
  {
   "cell_type": "markdown",
   "metadata": {},
   "source": [
    "### Execute"
   ]
  },
  {
   "cell_type": "code",
   "execution_count": 2,
   "metadata": {},
   "outputs": [],
   "source": [
    "from os import path, makedirs, listdir\n",
    "from shutil import copyfile"
   ]
  },
  {
   "cell_type": "code",
   "execution_count": null,
   "metadata": {},
   "outputs": [],
   "source": [
    "sbml_dir = f\"{data_dir}/bigg/sbml\"\n",
    "norm_sbml_dir=f\"{data_dir}/sbml_corrected\"\n",
    "netseed_result_dir=f\"{result_dir}/netseed\"\n",
    "netseed_form_result_dir=f\"{result_dir}/netseed_formated_results\"\n",
    "objecive_dir = f\"{data_dir}/objective\"\n",
    "\n",
    "e_coli_norm_dir =f\"{data_dir}/sbml_corrected_e_coli_core\"\n",
    "e_coli_dir =f\"{data_dir}/bigg/sbml_e_coli_core\""
   ]
  },
  {
   "cell_type": "code",
   "execution_count": 3,
   "metadata": {},
   "outputs": [],
   "source": [
    "if not path.isdir(e_coli_norm_dir):\n",
    "    makedirs(e_coli_norm_dir)\n",
    "\n",
    "copyfile(path.join(norm_sbml_dir, \"e_coli_core.xml\"), path.join(e_coli_norm_dir, \"e_coli_core.xml\"))\n",
    "\n",
    "if not path.isdir(netseed_result_dir):\n",
    "    makedirs(netseed_result_dir)\n",
    "    "
   ]
  },
  {
   "cell_type": "code",
   "execution_count": 3,
   "metadata": {},
   "outputs": [],
   "source": [
    "def run_netseed(normalised_sbml_dir, source_sbml_dir:str, out_dir:str):\n",
    "    conf_file=path.join(n2pcomp_dir,\"config_netseed.yaml\")\n",
    "    \n",
    "    for filename in listdir(normalised_sbml_dir):\n",
    "        species = f'{path.splitext(path.basename(filename))[0]}'\n",
    "        sbml_normalised_path = path.join(normalised_sbml_dir,filename)\n",
    "        sbml_path = path.join(source_sbml_dir,filename)\n",
    "        species_result_dir=path.join(out_dir,species)\n",
    "        if not path.isdir(species_result_dir):\n",
    "            makedirs(species_result_dir)\n",
    "\n",
    "        # Netseed has to be run with the normalise sbml\n",
    "        netseed_command=f\"-m n2pcomp run {sbml_normalised_path} --output {species_result_dir} -c {conf_file} -nbs {number_solution} -tl {time_limit}\"\n",
    "\n",
    "        !python {netseed_command}\n",
    "\n",
    "        # Finish formating results\n",
    "        file = \"../../scripts/05_format_results.py\"\n",
    "        objective_path = path.join(objecive_dir,f\"{species}_target.txt\")\n",
    "        netseed_result_file=path.join(species_result_dir,\"results.json\")\n",
    "        form_result_path=path.join(netseed_form_result_dir,species)\n",
    "        if not path.isdir(form_result_path):\n",
    "            makedirs(form_result_path)\n",
    "        netseed_form_result_file=path.join(form_result_path,f\"{species}_netseed_results.json\")\n",
    "        with open(objective_path) as f:\n",
    "            objective = f.readline()\n",
    "        \n",
    "        format_command=f\"{file} {netseed_result_file} {species} {objective} {netseed_form_result_file} NETSEED\"\n",
    "        !python {format_command}\n",
    "\n",
    "        # Execute check_flux with Seed2LP with the orginal path because seed2lp needs the complete\n",
    "        # network to fin the import reaction that have been shut down. Seed2lp will always normalise\n",
    "        # the network befor calculating flux.\n",
    "        flux_command=f\"flux {sbml_path} {netseed_form_result_file} {form_result_path}\"\n",
    "        !seed2lp {flux_command}"
   ]
  },
  {
   "cell_type": "code",
   "execution_count": 10,
   "metadata": {},
   "outputs": [
    {
     "name": "stdout",
     "output_type": "stream",
     "text": [
      "Directory ../../results/netseed/e_coli_core/ already exists. Overwritting directory...\n",
      " Netseed Directory given : /home/cghassem/miniconda3/envs/test/lib/python3.10/site-packages/n2pcomp/NetSeedPerl\n",
      "/home/cghassem/miniconda3/envs/test/lib/python3.10/site-packages/n2pcomp/netseed.py\n",
      "NETSEED OUTPUT:  M_fum_e\n",
      "M_fru_e\n",
      "M_gln__L_e\n",
      "M_mal__L_e\n",
      "M_o2_e,M_o2_c\n",
      "M_glc__D_e\n",
      "\n",
      "NETSEED ERR:  NO ERROR\n",
      "NETSEED ENUMERATION \n",
      "\u001b[0;96m\u001b[1m           \n",
      "                       _   ___    _   \n",
      "  ___   ___   ___   __| | |_  \\  | | _ __  \n",
      " / __| / _ \\ / _ \\ / _` |   ) |  | || '_ \\ \n",
      " \\__ \\|  __/|  __/| (_| |  / /_  | || |_) |\n",
      " |___/ \\___| \\___| \\__,_| |____| |_|| .__/    \n",
      "                                    |_|         \n",
      "      \u001b[0m\n",
      "Network name: e_coli_core\n",
      "____________________________________________\n",
      "\n",
      "\u001b[0;96m\n",
      "############################################\n",
      "############################################\n",
      "                 \u001b[1mCHECK FLUX\u001b[0;96m\n",
      "############################################\n",
      "############################################\n",
      "\u001b[0m\n",
      "---------------- FLUX INIT -----------------\n",
      "\n",
      "{'BIOMASS_Ecoli_core_w_GAM': np.float64(0.8739215069684295)}\n",
      "\n",
      "\n",
      "--------------- MEDIUM INIT ----------------\n",
      "\n",
      "EX_co2_e -1000.0 1000.0\n",
      "EX_glc__D_e -10.0 1000.0\n",
      "EX_h_e -1000.0 1000.0\n",
      "EX_h2o_e -1000.0 1000.0\n",
      "EX_nh4_e -1000.0 1000.0\n",
      "EX_o2_e -1000.0 1000.0\n",
      "EX_pi_e -1000.0 1000.0\n",
      "\n",
      "\n",
      "---------- STOP IMPORT FLUX -------------\n",
      "\n",
      "{'BIOMASS_Ecoli_core_w_GAM': 0.0}\n",
      "\n",
      "\n",
      "\u001b[0;94m\n",
      "____________________________________________\n",
      "____________________________________________\n",
      "\u001b[0m\n",
      "                  RESULTS                   \n",
      "\u001b[0;94m____________________________________________\n",
      "____________________________________________\n",
      "\u001b[0m\n",
      " \u001b[1m \"Cobra (seeds)\" \u001b[0m indicates the maximum flux  \n",
      "obtained in FBA from the seeds after shutting \n",
      "off all other exchange reactions. If the maximum \n",
      "flux is null, a test is performed opening demand \n",
      "reactions for the objective reaction's products, \n",
      "in order to test the effect of their accumulation \n",
      "(\u001b[1m\"cobra (demands)\"\u001b[0m ). If this test is not performed, \n",
      "\"NA\" value is indicated.\n",
      "\u001b[0;93m\n",
      "____________________________________________\n",
      "____________________________________________\n",
      "\u001b[0m\n",
      "                   Other                    \n",
      "\u001b[0;93m--------------------------------------------\u001b[0m\n",
      "                  NETSEED                   \n",
      "\u001b[0;93m            . . . . . . . . . .             \u001b[0m\n",
      "name | cobra (seeds) | cobra (demands)\n",
      "-----|---------------|-----------------\n",
      "model_1 | \u001b[0;91m0.0\u001b[0m | \u001b[0;91m-8.568626548908283e-17\u001b[0m\n",
      "model_2 | \u001b[0;91m2.35850022798956e-16\u001b[0m | \u001b[0;91m6.401841185396951e-16\u001b[0m\n",
      "\u001b[0;93m\n",
      "____________________________________________\n",
      "\u001b[0m\n"
     ]
    }
   ],
   "source": [
    "run_netseed(e_coli_norm_dir, e_coli_dir, netseed_result_dir)"
   ]
  },
  {
   "cell_type": "markdown",
   "metadata": {},
   "source": [
    "### **List of output files**\n",
    "\n",
    "The netseed_formated_result directory contains:\n",
    "- Directory logs: one log by sbml file. It shows modification performed on the original metabolic network.\n",
    "- a file *_results.json containing the formatted results compatible with Seed2LP. This file is used to launch the check-flux mode of Seed2LP.\n",
    "- a file *_fluxes_from_result.tsv: This is the output of check-flux while using the check flux mode from a s2lp file or result file formatted to be compatible with Seed2LP results files."
   ]
  },
  {
   "cell_type": "markdown",
   "metadata": {},
   "source": []
  }
 ],
 "metadata": {
  "kernelspec": {
   "display_name": "test",
   "language": "python",
   "name": "python3"
  },
  "language_info": {
   "codemirror_mode": {
    "name": "ipython",
    "version": 3
   },
   "file_extension": ".py",
   "mimetype": "text/x-python",
   "name": "python",
   "nbconvert_exporter": "python",
   "pygments_lexer": "ipython3",
   "version": "3.10.14"
  }
 },
 "nbformat": 4,
 "nbformat_minor": 2
}
