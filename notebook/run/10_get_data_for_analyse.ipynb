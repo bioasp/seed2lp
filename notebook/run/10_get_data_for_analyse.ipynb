{
 "cells": [
  {
   "cell_type": "markdown",
   "metadata": {},
   "source": [
    "# PREPARE DATA FOR ANALYSES: Get and format results data"
   ]
  },
  {
   "cell_type": "markdown",
   "metadata": {},
   "source": [
    "This notebook explain how to \n",
    "It must be run **AFTER** :\n",
    "- All previous notebooks (number 01 to 08) (extract of solutions)\n",
    "- After retrieving all solutions: [https://doi.org/10.57745/OS1JND](https://doi.org/10.57745/OS1JND)\n",
    "\n",
    "> Note:\n",
    ">\n",
    "> The Seed2lp supllement data are available[https://doi.org/10.57745/OS1JND](https://doi.org/10.57745/OS1JND)\n",
    ">\n",
    "> After downloadind and unzipping the package\n",
    "> - analyses/results/metabolites_iCN718\n",
    "> - analyses/results/supp_data\n",
    "> - analyses/results/timer_one_sol"
   ]
  },
  {
   "cell_type": "markdown",
   "metadata": {},
   "source": [
    "## Requirements\n",
    "Module *seed2lp* needed\n",
    "\n",
    "> Advice:\n",
    "> \n",
    "> Use a conda env called s2lp"
   ]
  },
  {
   "cell_type": "code",
   "execution_count": null,
   "metadata": {},
   "outputs": [],
   "source": [
    "!pip install seed2lp"
   ]
  },
  {
   "cell_type": "markdown",
   "metadata": {},
   "source": [
    "# GET AND CONCAT SCOPES DATA"
   ]
  },
  {
   "cell_type": "markdown",
   "metadata": {},
   "source": [
    "## **Slurm-based cluster**: Reproducing paper data\n",
    "Slurm-based scripts for cluster are available:\n",
    "- Launch if needed \n",
    "    - all previous scripts to get results, see notebook: \n",
    "        - [03_run_seed2lp](03_run_seed2lp.ipynb)\n",
    "        - [05_run_netseed](05_run_netseed.ipynb)\n",
    "        - [07_run_seed2lp_iCN718](07_run_seed2lp_iCN718.ipynb)\n",
    "- Change **_source_** variable by the path of your conda environement with seed2lp installed in files: \n",
    "    - [10_1_job_run_scope_analyse_iCN718](../../scripts/plafrim_cluster/10_1_job_run_scope_analyse_iCN718.sh)\n",
    "    - [10_1_job_run_scope_analyse_netseed](../../scripts/plafrim_cluster/10_1_job_run_scope_analyse_netseed.sh)\n",
    "    - [10_1_job_run_scope_analyse_s2lp](../../scripts/plafrim_cluster/10_1_job_run_scope_analyse_s2lp.sh)\n",
    "- launch \n",
    "    - [10_1_job_run_scope_analyse_iCN718](../../scripts/plafrim_cluster/10_1_job_run_scope_analyse_iCN718.sh): `sbatch 10_1_job_run_scope_analyse_iCN718.`\n",
    "    - [10_1_job_run_scope_analyse_netseed](../../scripts/plafrim_cluster/10_1_job_run_scope_analyse_netseed.sh): `sbatch 10_1_job_run_scope_analyse_netseed.`\n",
    "    - [10_1_job_run_scope_analyse_s2lp](../../scripts/plafrim_cluster/10_1_job_run_scope_analyse_s2lp.sh): `sbatch 10_1_job_run_scope_analyse_s2lp.`"
   ]
  },
  {
   "cell_type": "markdown",
   "metadata": {},
   "source": [
    "## Function"
   ]
  },
  {
   "cell_type": "code",
   "execution_count": 20,
   "metadata": {},
   "outputs": [],
   "source": [
    "from os import path, listdir, makedirs, walk\n",
    "from shutil import copyfile"
   ]
  },
  {
   "cell_type": "code",
   "execution_count": 4,
   "metadata": {},
   "outputs": [],
   "source": [
    "analyse_dir = \"../../analyses\"\n",
    "data_dir  = f\"{analyse_dir}/data/\"\n",
    "result_dir=f\"{analyse_dir}/results\"\n",
    "\n",
    "objective_dir=f\"{data_dir}/objective\"\n",
    "sbml_dir=f\"{data_dir}/bigg/sbml\"\n",
    "e_coli_dir=f\"{data_dir}/bigg/sbml_e_coli_core\""
   ]
  },
  {
   "cell_type": "code",
   "execution_count": 5,
   "metadata": {},
   "outputs": [
    {
     "data": {
      "text/plain": [
       "'../../data/bigg/sbml_e_coli_core/iCN718.xml'"
      ]
     },
     "execution_count": 5,
     "metadata": {},
     "output_type": "execute_result"
    }
   ],
   "source": [
    "if not path.isdir(e_coli_dir):\n",
    "    makedirs(e_coli_dir)\n",
    "    copyfile(path.join(sbml_dir, \"e_coli_core.xml\"), path.join(e_coli_dir, \"e_coli_core.xml\"))\n",
    "copyfile(path.join(sbml_dir, \"iCN718.xml\"), path.join(e_coli_dir, \"iCN718.xml\"))"
   ]
  },
  {
   "cell_type": "code",
   "execution_count": 5,
   "metadata": {},
   "outputs": [],
   "source": [
    "def run_scope_analyses(sbml_dir:str, scope_dir:str, obj_dir:str,\n",
    "                       lev1:list, lev2:list, lev3:list, lev4:list, \n",
    "                       given_species:str=None):\n",
    "    file = \"../../scripts/10_1_scope_analyse.py\"\n",
    "    for filename in listdir(sbml_dir):\n",
    "        species = f'{path.splitext(path.basename(filename))[0]}'\n",
    "        if not given_species or species==given_species:\n",
    "            sbml_path = path.join(sbml_dir, filename)\n",
    "            objective_path = path.join(obj_dir,f\"{species}_target.txt\")\n",
    "            dir = list(map(lambda x: x.split('.')[0], listdir(scope_dir)))\n",
    "            if species in dir:\n",
    "                path_seed=path.join(scope_dir, species, 'sbml')\n",
    "                path_scope=path.join(scope_dir, species, 'scope')\n",
    "                for l1 in lev1:\n",
    "                    for l2 in lev2:\n",
    "                        for l3 in lev3:\n",
    "                            for l4 in lev4:\n",
    "                                modes_info = path.join(l1, l2, l3, l4)\n",
    "                                full_path_seed = path.join(path_seed, modes_info)\n",
    "                                full_path_scope = path.join(path_scope, modes_info)\n",
    "                                if path.isdir(full_path_scope):\n",
    "                                    command=f\"{species} {sbml_path} {full_path_scope} {full_path_seed} {objective_path} {modes_info}\"\n",
    "                                    !python {file} {command}"
   ]
  },
  {
   "cell_type": "markdown",
   "metadata": {},
   "source": [
    "## Seed2LP"
   ]
  },
  {
   "cell_type": "code",
   "execution_count": 6,
   "metadata": {},
   "outputs": [],
   "source": [
    "list_dir_lev1=[\"full\", \"target\"]\n",
    "list_dir_lev2=[\"reasoning\", \"reasoning_filter\", \"reasoning_guess_check\", \"reasoning_guess_check_diversity\"]\n",
    "list_dir_lev3=[\"minimize\", \"subset_minimal\"]\n",
    "list_dir_lev4=[\"accu\", \"no_accu\"]"
   ]
  },
  {
   "cell_type": "markdown",
   "metadata": {},
   "source": [
    "### Variable to change (if wanted)"
   ]
  },
  {
   "cell_type": "code",
   "execution_count": 15,
   "metadata": {},
   "outputs": [],
   "source": [
    "scope_dir_s2lp=f\"{result_dir}/scopes_s2lp\""
   ]
  },
  {
   "cell_type": "markdown",
   "metadata": {},
   "source": [
    "### RUN"
   ]
  },
  {
   "cell_type": "code",
   "execution_count": 14,
   "metadata": {},
   "outputs": [
    {
     "name": "stdout",
     "output_type": "stream",
     "text": [
      "\u001b[0;96m\u001b[1m           \n",
      "                       _   ___    _   \n",
      "  ___   ___   ___   __| | |_  \\  | | _ __  \n",
      " / __| / _ \\ / _ \\ / _` |   ) |  | || '_ \\ \n",
      " \\__ \\|  __/|  __/| (_| |  / /_  | || |_) |\n",
      " |___/ \\___| \\___| \\__,_| |____| |_|| .__/    \n",
      "                                    |_|         \n",
      "      \u001b[0m\n",
      "/home/cghassem/Projets/seed-2-lp/notebook/run/../../scripts/10_1_scope_analyse.py:247: FutureWarning: The behavior of DataFrame concatenation with empty or all-NA entries is deprecated. In a future version, this will no longer exclude empty or all-NA columns when determining the result dtypes. To retain the old behavior, exclude the relevant entries before the concat operation.\n",
      "  comparison_scope_df = pd.concat([comparison_scope_df, current_df], ignore_index=True)\n",
      "\u001b[0;96m\u001b[1m           \n",
      "                       _   ___    _   \n",
      "  ___   ___   ___   __| | |_  \\  | | _ __  \n",
      " / __| / _ \\ / _ \\ / _` |   ) |  | || '_ \\ \n",
      " \\__ \\|  __/|  __/| (_| |  / /_  | || |_) |\n",
      " |___/ \\___| \\___| \\__,_| |____| |_|| .__/    \n",
      "                                    |_|         \n",
      "      \u001b[0m\n",
      "/home/cghassem/Projets/seed-2-lp/notebook/run/../../scripts/10_1_scope_analyse.py:247: FutureWarning: The behavior of DataFrame concatenation with empty or all-NA entries is deprecated. In a future version, this will no longer exclude empty or all-NA columns when determining the result dtypes. To retain the old behavior, exclude the relevant entries before the concat operation.\n",
      "  comparison_scope_df = pd.concat([comparison_scope_df, current_df], ignore_index=True)\n",
      "\u001b[0;96m\u001b[1m           \n",
      "                       _   ___    _   \n",
      "  ___   ___   ___   __| | |_  \\  | | _ __  \n",
      " / __| / _ \\ / _ \\ / _` |   ) |  | || '_ \\ \n",
      " \\__ \\|  __/|  __/| (_| |  / /_  | || |_) |\n",
      " |___/ \\___| \\___| \\__,_| |____| |_|| .__/    \n",
      "                                    |_|         \n",
      "      \u001b[0m\n",
      "/home/cghassem/Projets/seed-2-lp/notebook/run/../../scripts/10_1_scope_analyse.py:247: FutureWarning: The behavior of DataFrame concatenation with empty or all-NA entries is deprecated. In a future version, this will no longer exclude empty or all-NA columns when determining the result dtypes. To retain the old behavior, exclude the relevant entries before the concat operation.\n",
      "  comparison_scope_df = pd.concat([comparison_scope_df, current_df], ignore_index=True)\n",
      "\u001b[0;96m\u001b[1m           \n",
      "                       _   ___    _   \n",
      "  ___   ___   ___   __| | |_  \\  | | _ __  \n",
      " / __| / _ \\ / _ \\ / _` |   ) |  | || '_ \\ \n",
      " \\__ \\|  __/|  __/| (_| |  / /_  | || |_) |\n",
      " |___/ \\___| \\___| \\__,_| |____| |_|| .__/    \n",
      "                                    |_|         \n",
      "      \u001b[0m\n",
      "/home/cghassem/Projets/seed-2-lp/notebook/run/../../scripts/10_1_scope_analyse.py:247: FutureWarning: The behavior of DataFrame concatenation with empty or all-NA entries is deprecated. In a future version, this will no longer exclude empty or all-NA columns when determining the result dtypes. To retain the old behavior, exclude the relevant entries before the concat operation.\n",
      "  comparison_scope_df = pd.concat([comparison_scope_df, current_df], ignore_index=True)\n",
      "\u001b[0;96m\u001b[1m           \n",
      "                       _   ___    _   \n",
      "  ___   ___   ___   __| | |_  \\  | | _ __  \n",
      " / __| / _ \\ / _ \\ / _` |   ) |  | || '_ \\ \n",
      " \\__ \\|  __/|  __/| (_| |  / /_  | || |_) |\n",
      " |___/ \\___| \\___| \\__,_| |____| |_|| .__/    \n",
      "                                    |_|         \n",
      "      \u001b[0m\n",
      "/home/cghassem/Projets/seed-2-lp/notebook/run/../../scripts/10_1_scope_analyse.py:247: FutureWarning: The behavior of DataFrame concatenation with empty or all-NA entries is deprecated. In a future version, this will no longer exclude empty or all-NA columns when determining the result dtypes. To retain the old behavior, exclude the relevant entries before the concat operation.\n",
      "  comparison_scope_df = pd.concat([comparison_scope_df, current_df], ignore_index=True)\n",
      "\u001b[0;96m\u001b[1m           \n",
      "                       _   ___    _   \n",
      "  ___   ___   ___   __| | |_  \\  | | _ __  \n",
      " / __| / _ \\ / _ \\ / _` |   ) |  | || '_ \\ \n",
      " \\__ \\|  __/|  __/| (_| |  / /_  | || |_) |\n",
      " |___/ \\___| \\___| \\__,_| |____| |_|| .__/    \n",
      "                                    |_|         \n",
      "      \u001b[0m\n",
      "/home/cghassem/Projets/seed-2-lp/notebook/run/../../scripts/10_1_scope_analyse.py:247: FutureWarning: The behavior of DataFrame concatenation with empty or all-NA entries is deprecated. In a future version, this will no longer exclude empty or all-NA columns when determining the result dtypes. To retain the old behavior, exclude the relevant entries before the concat operation.\n",
      "  comparison_scope_df = pd.concat([comparison_scope_df, current_df], ignore_index=True)\n",
      "\u001b[0;96m\u001b[1m           \n",
      "                       _   ___    _   \n",
      "  ___   ___   ___   __| | |_  \\  | | _ __  \n",
      " / __| / _ \\ / _ \\ / _` |   ) |  | || '_ \\ \n",
      " \\__ \\|  __/|  __/| (_| |  / /_  | || |_) |\n",
      " |___/ \\___| \\___| \\__,_| |____| |_|| .__/    \n",
      "                                    |_|         \n",
      "      \u001b[0m\n",
      "/home/cghassem/Projets/seed-2-lp/notebook/run/../../scripts/10_1_scope_analyse.py:247: FutureWarning: The behavior of DataFrame concatenation with empty or all-NA entries is deprecated. In a future version, this will no longer exclude empty or all-NA columns when determining the result dtypes. To retain the old behavior, exclude the relevant entries before the concat operation.\n",
      "  comparison_scope_df = pd.concat([comparison_scope_df, current_df], ignore_index=True)\n",
      "\u001b[0;96m\u001b[1m           \n",
      "                       _   ___    _   \n",
      "  ___   ___   ___   __| | |_  \\  | | _ __  \n",
      " / __| / _ \\ / _ \\ / _` |   ) |  | || '_ \\ \n",
      " \\__ \\|  __/|  __/| (_| |  / /_  | || |_) |\n",
      " |___/ \\___| \\___| \\__,_| |____| |_|| .__/    \n",
      "                                    |_|         \n",
      "      \u001b[0m\n",
      "/home/cghassem/Projets/seed-2-lp/notebook/run/../../scripts/10_1_scope_analyse.py:247: FutureWarning: The behavior of DataFrame concatenation with empty or all-NA entries is deprecated. In a future version, this will no longer exclude empty or all-NA columns when determining the result dtypes. To retain the old behavior, exclude the relevant entries before the concat operation.\n",
      "  comparison_scope_df = pd.concat([comparison_scope_df, current_df], ignore_index=True)\n"
     ]
    }
   ],
   "source": [
    "run_scope_analyses(e_coli_dir, scope_dir_s2lp, objective_dir, list_dir_lev1, list_dir_lev2, list_dir_lev3, list_dir_lev4, \"e_coli_core\")"
   ]
  },
  {
   "cell_type": "markdown",
   "metadata": {},
   "source": [
    "## NetSeed"
   ]
  },
  {
   "cell_type": "code",
   "execution_count": 59,
   "metadata": {},
   "outputs": [],
   "source": [
    "list_dir_lev1=[\"netseed\"]\n",
    "list_dir_lev2=[\"netseed\"]\n",
    "list_dir_lev3=[\"other\"]\n",
    "list_dir_lev4=[\"accu\"]"
   ]
  },
  {
   "cell_type": "markdown",
   "metadata": {},
   "source": [
    "### Variable to change (if wanted)"
   ]
  },
  {
   "cell_type": "code",
   "execution_count": 16,
   "metadata": {},
   "outputs": [],
   "source": [
    "scope_dir_netseed=f\"{result_dir}/scopes_netseed\""
   ]
  },
  {
   "cell_type": "markdown",
   "metadata": {},
   "source": [
    "### RUN"
   ]
  },
  {
   "cell_type": "code",
   "execution_count": 61,
   "metadata": {},
   "outputs": [
    {
     "name": "stdout",
     "output_type": "stream",
     "text": [
      "\u001b[0;96m\u001b[1m           \n",
      "                       _   ___    _   \n",
      "  ___   ___   ___   __| | |_  \\  | | _ __  \n",
      " / __| / _ \\ / _ \\ / _` |   ) |  | || '_ \\ \n",
      " \\__ \\|  __/|  __/| (_| |  / /_  | || |_) |\n",
      " |___/ \\___| \\___| \\__,_| |____| |_|| .__/    \n",
      "                                    |_|         \n",
      "      \u001b[0m\n",
      "/home/cghassem/Projets/seed-2-lp/notebook/run/../../scripts/10_1_scope_analyse.py:224: FutureWarning: The behavior of DataFrame concatenation with empty or all-NA entries is deprecated. In a future version, this will no longer exclude empty or all-NA columns when determining the result dtypes. To retain the old behavior, exclude the relevant entries before the concat operation.\n",
      "  comparison_scope_df = pd.concat([comparison_scope_df, current_df], ignore_index=True)\n"
     ]
    }
   ],
   "source": [
    "run_scope_analyses(e_coli_dir, scope_dir_netseed, objective_dir, list_dir_lev1, list_dir_lev2, list_dir_lev3, list_dir_lev4, \"e_coli_core\")"
   ]
  },
  {
   "cell_type": "markdown",
   "metadata": {},
   "source": [
    "## iCN718"
   ]
  },
  {
   "cell_type": "code",
   "execution_count": 43,
   "metadata": {},
   "outputs": [],
   "source": [
    "list_dir_lev1=[\"target\"]\n",
    "list_dir_lev2=[\"reasoning\", \"reasoning_filter\", \"reasoning_guess_check\", \"reasoning_guess_check_diversity\"]\n",
    "list_dir_lev3=[\"subset_minimal\"]\n",
    "list_dir_lev4=[\"no_accu\"]"
   ]
  },
  {
   "cell_type": "markdown",
   "metadata": {},
   "source": [
    "### Variable to change (if wanted)"
   ]
  },
  {
   "cell_type": "code",
   "execution_count": 44,
   "metadata": {},
   "outputs": [],
   "source": [
    "scope_dir_iCN718=f\"{result_dir}/scopes_iCN718\""
   ]
  },
  {
   "cell_type": "markdown",
   "metadata": {},
   "source": [
    "### RUN"
   ]
  },
  {
   "cell_type": "code",
   "execution_count": 45,
   "metadata": {},
   "outputs": [
    {
     "name": "stdout",
     "output_type": "stream",
     "text": [
      "\u001b[0;96m\u001b[1m           \n",
      "                       _   ___    _   \n",
      "  ___   ___   ___   __| | |_  \\  | | _ __  \n",
      " / __| / _ \\ / _ \\ / _` |   ) |  | || '_ \\ \n",
      " \\__ \\|  __/|  __/| (_| |  / /_  | || |_) |\n",
      " |___/ \\___| \\___| \\__,_| |____| |_|| .__/    \n",
      "                                    |_|         \n",
      "      \u001b[0m\n",
      "/home/cghassem/Projets/seed-2-lp/notebook/run/../../scripts/10_1_scope_analyse.py:247: FutureWarning: The behavior of DataFrame concatenation with empty or all-NA entries is deprecated. In a future version, this will no longer exclude empty or all-NA columns when determining the result dtypes. To retain the old behavior, exclude the relevant entries before the concat operation.\n",
      "  comparison_scope_df = pd.concat([comparison_scope_df, current_df], ignore_index=True)\n",
      "\u001b[0;96m\u001b[1m           \n",
      "                       _   ___    _   \n",
      "  ___   ___   ___   __| | |_  \\  | | _ __  \n",
      " / __| / _ \\ / _ \\ / _` |   ) |  | || '_ \\ \n",
      " \\__ \\|  __/|  __/| (_| |  / /_  | || |_) |\n",
      " |___/ \\___| \\___| \\__,_| |____| |_|| .__/    \n",
      "                                    |_|         \n",
      "      \u001b[0m\n",
      "/home/cghassem/Projets/seed-2-lp/notebook/run/../../scripts/10_1_scope_analyse.py:247: FutureWarning: The behavior of DataFrame concatenation with empty or all-NA entries is deprecated. In a future version, this will no longer exclude empty or all-NA columns when determining the result dtypes. To retain the old behavior, exclude the relevant entries before the concat operation.\n",
      "  comparison_scope_df = pd.concat([comparison_scope_df, current_df], ignore_index=True)\n",
      "\u001b[0;96m\u001b[1m           \n",
      "                       _   ___    _   \n",
      "  ___   ___   ___   __| | |_  \\  | | _ __  \n",
      " / __| / _ \\ / _ \\ / _` |   ) |  | || '_ \\ \n",
      " \\__ \\|  __/|  __/| (_| |  / /_  | || |_) |\n",
      " |___/ \\___| \\___| \\__,_| |____| |_|| .__/    \n",
      "                                    |_|         \n",
      "      \u001b[0m\n",
      "/home/cghassem/Projets/seed-2-lp/notebook/run/../../scripts/10_1_scope_analyse.py:247: FutureWarning: The behavior of DataFrame concatenation with empty or all-NA entries is deprecated. In a future version, this will no longer exclude empty or all-NA columns when determining the result dtypes. To retain the old behavior, exclude the relevant entries before the concat operation.\n",
      "  comparison_scope_df = pd.concat([comparison_scope_df, current_df], ignore_index=True)\n",
      "\u001b[0;96m\u001b[1m           \n",
      "                       _   ___    _   \n",
      "  ___   ___   ___   __| | |_  \\  | | _ __  \n",
      " / __| / _ \\ / _ \\ / _` |   ) |  | || '_ \\ \n",
      " \\__ \\|  __/|  __/| (_| |  / /_  | || |_) |\n",
      " |___/ \\___| \\___| \\__,_| |____| |_|| .__/    \n",
      "                                    |_|         \n",
      "      \u001b[0m\n",
      "/home/cghassem/Projets/seed-2-lp/notebook/run/../../scripts/10_1_scope_analyse.py:247: FutureWarning: The behavior of DataFrame concatenation with empty or all-NA entries is deprecated. In a future version, this will no longer exclude empty or all-NA columns when determining the result dtypes. To retain the old behavior, exclude the relevant entries before the concat operation.\n",
      "  comparison_scope_df = pd.concat([comparison_scope_df, current_df], ignore_index=True)\n"
     ]
    }
   ],
   "source": [
    "run_scope_analyses(e_coli_dir, scope_dir_s2lp, objective_dir, list_dir_lev1, list_dir_lev2, list_dir_lev3, list_dir_lev4, \"e_coli_core\")"
   ]
  },
  {
   "cell_type": "markdown",
   "metadata": {},
   "source": [
    "### RUN"
   ]
  },
  {
   "cell_type": "code",
   "execution_count": 66,
   "metadata": {},
   "outputs": [
    {
     "name": "stdout",
     "output_type": "stream",
     "text": [
      "\u001b[0;96m\u001b[1m           \n",
      "                       _   ___    _   \n",
      "  ___   ___   ___   __| | |_  \\  | | _ __  \n",
      " / __| / _ \\ / _ \\ / _` |   ) |  | || '_ \\ \n",
      " \\__ \\|  __/|  __/| (_| |  / /_  | || |_) |\n",
      " |___/ \\___| \\___| \\__,_| |____| |_|| .__/    \n",
      "                                    |_|         \n",
      "      \u001b[0m\n",
      "/home/cghassem/Projets/seed-2-lp/notebook/run/../../scripts/10_1_scope_analyse.py:224: FutureWarning: The behavior of DataFrame concatenation with empty or all-NA entries is deprecated. In a future version, this will no longer exclude empty or all-NA columns when determining the result dtypes. To retain the old behavior, exclude the relevant entries before the concat operation.\n",
      "  comparison_scope_df = pd.concat([comparison_scope_df, current_df], ignore_index=True)\n",
      "\u001b[0;96m\u001b[1m           \n",
      "                       _   ___    _   \n",
      "  ___   ___   ___   __| | |_  \\  | | _ __  \n",
      " / __| / _ \\ / _ \\ / _` |   ) |  | || '_ \\ \n",
      " \\__ \\|  __/|  __/| (_| |  / /_  | || |_) |\n",
      " |___/ \\___| \\___| \\__,_| |____| |_|| .__/    \n",
      "                                    |_|         \n",
      "      \u001b[0m\n",
      "/home/cghassem/Projets/seed-2-lp/notebook/run/../../scripts/10_1_scope_analyse.py:224: FutureWarning: The behavior of DataFrame concatenation with empty or all-NA entries is deprecated. In a future version, this will no longer exclude empty or all-NA columns when determining the result dtypes. To retain the old behavior, exclude the relevant entries before the concat operation.\n",
      "  comparison_scope_df = pd.concat([comparison_scope_df, current_df], ignore_index=True)\n",
      "\u001b[0;96m\u001b[1m           \n",
      "                       _   ___    _   \n",
      "  ___   ___   ___   __| | |_  \\  | | _ __  \n",
      " / __| / _ \\ / _ \\ / _` |   ) |  | || '_ \\ \n",
      " \\__ \\|  __/|  __/| (_| |  / /_  | || |_) |\n",
      " |___/ \\___| \\___| \\__,_| |____| |_|| .__/    \n",
      "                                    |_|         \n",
      "      \u001b[0m\n",
      "/home/cghassem/Projets/seed-2-lp/notebook/run/../../scripts/10_1_scope_analyse.py:224: FutureWarning: The behavior of DataFrame concatenation with empty or all-NA entries is deprecated. In a future version, this will no longer exclude empty or all-NA columns when determining the result dtypes. To retain the old behavior, exclude the relevant entries before the concat operation.\n",
      "  comparison_scope_df = pd.concat([comparison_scope_df, current_df], ignore_index=True)\n",
      "\u001b[0;96m\u001b[1m           \n",
      "                       _   ___    _   \n",
      "  ___   ___   ___   __| | |_  \\  | | _ __  \n",
      " / __| / _ \\ / _ \\ / _` |   ) |  | || '_ \\ \n",
      " \\__ \\|  __/|  __/| (_| |  / /_  | || |_) |\n",
      " |___/ \\___| \\___| \\__,_| |____| |_|| .__/    \n",
      "                                    |_|         \n",
      "      \u001b[0m\n",
      "/home/cghassem/Projets/seed-2-lp/notebook/run/../../scripts/10_1_scope_analyse.py:224: FutureWarning: The behavior of DataFrame concatenation with empty or all-NA entries is deprecated. In a future version, this will no longer exclude empty or all-NA columns when determining the result dtypes. To retain the old behavior, exclude the relevant entries before the concat operation.\n",
      "  comparison_scope_df = pd.concat([comparison_scope_df, current_df], ignore_index=True)\n"
     ]
    }
   ],
   "source": [
    "run_scope_analyses(e_coli_dir, scope_dir_iCN718, objective_dir, list_dir_lev1, list_dir_lev2, list_dir_lev3, list_dir_lev4, \"iCN718\")"
   ]
  },
  {
   "cell_type": "markdown",
   "metadata": {},
   "source": [
    "### **List of output files**\n",
    "\n",
    "In each of scope directories you'll find\n",
    "\n",
    "- logs directory\n",
    "- sbml direcotory\n",
    "- scope direcotory  and in each:\n",
    "    - a directory \"target\" (or full wwhen Full Network used but not in our example) or \"netseed\"  and in each:\n",
    "        - a directory for each mode (reasoning, filter, Guess-Check or Guess-Check-Div) or \"netseed\"  and in each:\n",
    "            - a directory for \"submin\" (and \"minimize\" when used) or \"other\"  and in each:\n",
    "                - a file *_compare.tsv which contains all scope of the directory"
   ]
  },
  {
   "cell_type": "markdown",
   "metadata": {},
   "source": [
    "## Concat by scopes directory (al sub repository)"
   ]
  },
  {
   "cell_type": "markdown",
   "metadata": {},
   "source": [
    "## **Slurm-based cluster**: Reproducing paper data\n",
    "Slurm-based scripts for cluster are available:\n",
    "- Launch if needed \n",
    "    - all previous scripts to get results for iCN718 and scope, see notebbok: [07_run_seed2lp_iCN718](07_run_seed2lp_iCN718.ipynb)\n",
    "- Change **_source_** variable by the path of your conda environement with seed2lp installed in files: \n",
    "    - [10_2_run_scope_analyse_concat](../../scripts/plafrim_cluster/10_2_run_scope_analyse_concat.sh)\n",
    "- launch \n",
    "    - [10_2_run_scope_analyse_concat](../../scripts/plafrim_cluster/10_2_run_scope_analyse_concat.sh): `sbatch 10_2_run_scope_analyse_concat.`"
   ]
  },
  {
   "cell_type": "markdown",
   "metadata": {},
   "source": [
    "### RUN"
   ]
  },
  {
   "cell_type": "code",
   "execution_count": 62,
   "metadata": {},
   "outputs": [],
   "source": [
    "def concat_scopes_by_dir(scope_dir):\n",
    "    for dir in listdir(scope_dir):\n",
    "        species=dir\n",
    "        path_scope=path.join(scope_dir, species, 'scope')\n",
    "        files_list=list()\n",
    "        for dirpath, dirnames, filenames in walk(path_scope):\n",
    "            for filename in [f for f in filenames if f.endswith(\"_compare.tsv\")]:\n",
    "                files_list.append(path.join(dirpath, filename))\n",
    "           \n",
    "    output_file=path.join(scope_dir, f'{species}_scope_compare.tsv')\n",
    "    first_line=None\n",
    "    with open(output_file, 'w') as outfile:\n",
    "        for file in files_list:\n",
    "            with open(file) as infile:\n",
    "                if not first_line:\n",
    "                    first_line = infile.readline()\n",
    "                    outfile.write(first_line)\n",
    "                else:\n",
    "                    next(infile)\n",
    "                for line in infile:\n",
    "                    outfile.write(line)"
   ]
  },
  {
   "cell_type": "code",
   "execution_count": 63,
   "metadata": {},
   "outputs": [],
   "source": [
    "concat_scopes_by_dir(scope_dir_s2lp)"
   ]
  },
  {
   "cell_type": "code",
   "execution_count": 64,
   "metadata": {},
   "outputs": [],
   "source": [
    "concat_scopes_by_dir(scope_dir_netseed)"
   ]
  },
  {
   "cell_type": "code",
   "execution_count": 65,
   "metadata": {},
   "outputs": [],
   "source": [
    "concat_scopes_by_dir(scope_dir_iCN718)"
   ]
  },
  {
   "cell_type": "markdown",
   "metadata": {},
   "source": [
    "### **List of output files**\n",
    "\n",
    "In each of scope directories you'll find\n",
    "\n",
    "- logs directory\n",
    "- sbml direcotory\n",
    "- scope direcotory and in each:\n",
    "    -  a file *_scope_compare.tsv which contains all scope of subdirectories"
   ]
  },
  {
   "cell_type": "markdown",
   "metadata": {},
   "source": [
    "# METABOLITES ANALYSE FOR iCN718"
   ]
  },
  {
   "cell_type": "markdown",
   "metadata": {},
   "source": [
    "In this section we will count the occurences of metabolites in solutions by Search method Reasoning / Filter / Gues Check and Guess Check Diversity."
   ]
  },
  {
   "cell_type": "markdown",
   "metadata": {},
   "source": [
    "## **WARNING**\n",
    "This section of the notebook will run the metabolites occurences on solution only for iCN718 with 30 solutions.\n",
    "\n",
    "On the paper, the metabolites occurences was computed for:\n",
    "- iCN718 Seed2LP results files (up to 2000), Target mode, submin, no accumulation, *Reasoning*, *Hybrid-Filter*, *Hybrid-GC*, *Hybrid-GC<sub>Div<sub>*.\n",
    "\n",
    "\n",
    "> Note:\n",
    ">\n",
    "> - All results file from Seed2LP iCN metabolites occurences are available here: ????? (LINK)"
   ]
  },
  {
   "cell_type": "markdown",
   "metadata": {},
   "source": [
    "## Requirements\n",
    "Module *seed2lp* needed\n",
    "\n",
    "> Advice:\n",
    "> \n",
    "> Use a conda env called s2lp with python 3.10 for plafrim cluster scripts"
   ]
  },
  {
   "cell_type": "markdown",
   "metadata": {},
   "source": [
    "## **Slurm-based cluster**: Reproducing paper data\n",
    "Slurm-based scripts for cluster are available:\n",
    "- Launch if needed \n",
    "    - previous scripts to get iCN718 results. Seed notebook : [07_run_seed2lp_iCN718](07_run_seed2lp_iCN718.ipynb)\n",
    "- Change **_source_** variable by the path of your conda environement with seed2lp installed in files: \n",
    "    - [10_3_job_iCN718_metabolite_analysis](../../scripts/slurm_cluster/10_3_job_iCN718_metabolite_analysis.sh)\n",
    "- launch \n",
    "    - [10_3_job_iCN718_metabolite_analysis](../../scripts/slurm_cluster/10_3_job_iCN718_metabolite_analysis.sh): `sbatch 10_3_job_iCN718_metabolite_analysis.sh`\n"
   ]
  },
  {
   "cell_type": "code",
   "execution_count": 1,
   "metadata": {},
   "outputs": [],
   "source": [
    "from os import path, makedirs"
   ]
  },
  {
   "cell_type": "markdown",
   "metadata": {},
   "source": [
    "### Variable to change (if wanted)"
   ]
  },
  {
   "cell_type": "code",
   "execution_count": 6,
   "metadata": {},
   "outputs": [],
   "source": [
    "analyse_dir = \"../../analyses\"\n",
    "data_dir  = f\"{analyse_dir}/data/\"\n",
    "result_dir=f\"{analyse_dir}/results\"\n",
    "\n",
    "species=\"iCN718\"\n",
    "sbml_dir = f\"{data_dir}/bigg/sbml\"\n",
    "sbml_file = f\"{sbml_dir}/{species}.xml\"\n",
    "species_result_dir=f\"{result_dir}/{species}_2000/{species}\"\n",
    "output_dir=f\"{result_dir}/metabolites_{species}\""
   ]
  },
  {
   "cell_type": "code",
   "execution_count": 3,
   "metadata": {},
   "outputs": [],
   "source": [
    "if not path.isdir(output_dir):\n",
    "    makedirs(output_dir)"
   ]
  },
  {
   "cell_type": "markdown",
   "metadata": {},
   "source": [
    "### RUN"
   ]
  },
  {
   "cell_type": "code",
   "execution_count": 8,
   "metadata": {},
   "outputs": [
    {
     "name": "stdout",
     "output_type": "stream",
     "text": [
      "\u001b[0;96m\u001b[1m           \n",
      "                       _   ___    _   \n",
      "  ___   ___   ___   __| | |_  \\  | | _ __  \n",
      " / __| / _ \\ / _ \\ / _` |   ) |  | || '_ \\ \n",
      " \\__ \\|  __/|  __/| (_| |  / /_  | || |_) |\n",
      " |___/ \\___| \\___| \\__,_| |____| |_|| .__/    \n",
      "                                    |_|         \n",
      "      \u001b[0m\n"
     ]
    }
   ],
   "source": [
    "file = \"../../scripts/10_3_iCN718_metabolite_analyses.py\"\n",
    "\n",
    "command=f\"{file} {species_result_dir} {sbml_file} {output_dir}\"\n",
    "!python {command}\n"
   ]
  },
  {
   "cell_type": "markdown",
   "metadata": {},
   "source": [
    "### **List of output files**\n",
    "\n",
    "In the metabolite output directory you will find a file called \"metabolites_occurences.tsv\""
   ]
  },
  {
   "cell_type": "markdown",
   "metadata": {},
   "source": [
    "# GET SOLUTIONS SUPPLEMENTARY DATA"
   ]
  },
  {
   "cell_type": "markdown",
   "metadata": {},
   "source": [
    "## **Slurm-based cluster**: Reproducing paper data\n",
    "Slurm-based scripts for cluster are available:\n",
    "- Launch if needed \n",
    "    - all previous scripts to get results, see notebook: \n",
    "        - [03_run_seed2lp](03_run_seed2lp.ipynb)\n",
    "        - [05_run_netseed](05_run_netseed.ipynb)\n",
    "        - [07_run_seed2lp_iCN718](07_run_seed2lp_iCN718.ipynb)\n",
    "- Change **_source_** variable by the path of your conda environement with seed2lp installed in files: \n",
    "    - [10_4_job_get_supp_data](../../scripts/plafrim_cluster/10_4_job_get_supp_data.sh)\n",
    "- launch \n",
    "    - [10_4_job_get_supp_data](../../scripts/plafrim_cluster/10_4_job_get_supp_data.sh): `sbatch 10_4_job_get_supp_data.sh`\n"
   ]
  },
  {
   "cell_type": "markdown",
   "metadata": {},
   "source": [
    "### Variable to change (if wanted)"
   ]
  },
  {
   "cell_type": "code",
   "execution_count": 9,
   "metadata": {},
   "outputs": [],
   "source": [
    "analyse_dir = \"../../analyses\"\n",
    "data_dir  = f\"{analyse_dir}/data/\"\n",
    "result_dir=f\"{analyse_dir}/results\"\n",
    "\n",
    "sbml_dir=f\"{data_dir}/sbml_corrected\"\n",
    "s2lp_result_dir=f\"{result_dir}/s2lp\"\n",
    "iCN718_result_dir=f\"{result_dir}/iCN718\"\n",
    "onesol_result_dir=f\"{result_dir}/one_solution\"\n",
    "out_dir=f\"{result_dir}/supp_data\""
   ]
  },
  {
   "cell_type": "code",
   "execution_count": 13,
   "metadata": {},
   "outputs": [],
   "source": [
    "if not path.isdir(out_dir):\n",
    "    makedirs(out_dir)"
   ]
  },
  {
   "cell_type": "code",
   "execution_count": 11,
   "metadata": {},
   "outputs": [],
   "source": [
    "file = \"../../scripts/10_4_get_supp_data.py\""
   ]
  },
  {
   "cell_type": "markdown",
   "metadata": {},
   "source": [
    "## Seed2LP"
   ]
  },
  {
   "cell_type": "code",
   "execution_count": 14,
   "metadata": {},
   "outputs": [
    {
     "name": "stdout",
     "output_type": "stream",
     "text": [
      "\u001b[0;96m\u001b[1m           \n",
      "                       _   ___    _   \n",
      "  ___   ___   ___   __| | |_  \\  | | _ __  \n",
      " / __| / _ \\ / _ \\ / _` |   ) |  | || '_ \\ \n",
      " \\__ \\|  __/|  __/| (_| |  / /_  | || |_) |\n",
      " |___/ \\___| \\___| \\__,_| |____| |_|| .__/    \n",
      "                                    |_|         \n",
      "      \u001b[0m\n",
      "/home/cghassem/Projets/seed-2-lp/notebook/run/../../scripts/10_4_get_supp_data.py:152: FutureWarning: The behavior of DataFrame concatenation with empty or all-NA entries is deprecated. In a future version, this will no longer exclude empty or all-NA columns when determining the result dtypes. To retain the old behavior, exclude the relevant entries before the concat operation.\n",
      "  results=pd.concat([results, current_df], ignore_index=True)\n"
     ]
    }
   ],
   "source": [
    "s2lp_command = f\"{file} {s2lp_result_dir} {sbml_dir} {out_dir} 'seed2lp'\"\n",
    "!python {s2lp_command}"
   ]
  },
  {
   "cell_type": "markdown",
   "metadata": {},
   "source": [
    "## iCN718"
   ]
  },
  {
   "cell_type": "code",
   "execution_count": 15,
   "metadata": {},
   "outputs": [
    {
     "name": "stdout",
     "output_type": "stream",
     "text": [
      "\u001b[0;96m\u001b[1m           \n",
      "                       _   ___    _   \n",
      "  ___   ___   ___   __| | |_  \\  | | _ __  \n",
      " / __| / _ \\ / _ \\ / _` |   ) |  | || '_ \\ \n",
      " \\__ \\|  __/|  __/| (_| |  / /_  | || |_) |\n",
      " |___/ \\___| \\___| \\__,_| |____| |_|| .__/    \n",
      "                                    |_|         \n",
      "      \u001b[0m\n",
      "/home/cghassem/Projets/seed-2-lp/notebook/run/../../scripts/10_4_get_supp_data.py:152: FutureWarning: The behavior of DataFrame concatenation with empty or all-NA entries is deprecated. In a future version, this will no longer exclude empty or all-NA columns when determining the result dtypes. To retain the old behavior, exclude the relevant entries before the concat operation.\n",
      "  results=pd.concat([results, current_df], ignore_index=True)\n"
     ]
    }
   ],
   "source": [
    "iCN718_command = f\"{file} {iCN718_result_dir} {sbml_dir} {out_dir} 'iCN718_2000'\"\n",
    "!python {iCN718_command}"
   ]
  },
  {
   "cell_type": "markdown",
   "metadata": {},
   "source": [
    "## One solution"
   ]
  },
  {
   "cell_type": "code",
   "execution_count": 16,
   "metadata": {},
   "outputs": [
    {
     "name": "stdout",
     "output_type": "stream",
     "text": [
      "\u001b[0;96m\u001b[1m           \n",
      "                       _   ___    _   \n",
      "  ___   ___   ___   __| | |_  \\  | | _ __  \n",
      " / __| / _ \\ / _ \\ / _` |   ) |  | || '_ \\ \n",
      " \\__ \\|  __/|  __/| (_| |  / /_  | || |_) |\n",
      " |___/ \\___| \\___| \\__,_| |____| |_|| .__/    \n",
      "                                    |_|         \n",
      "      \u001b[0m\n",
      "/home/cghassem/Projets/seed-2-lp/notebook/run/../../scripts/10_4_get_supp_data.py:152: FutureWarning: The behavior of DataFrame concatenation with empty or all-NA entries is deprecated. In a future version, this will no longer exclude empty or all-NA columns when determining the result dtypes. To retain the old behavior, exclude the relevant entries before the concat operation.\n",
      "  results=pd.concat([results, current_df], ignore_index=True)\n"
     ]
    }
   ],
   "source": [
    "onesol_command = f\"{file} {onesol_result_dir} {sbml_dir} {out_dir} 'one_solution'\"\n",
    "!python {onesol_command}"
   ]
  },
  {
   "cell_type": "markdown",
   "metadata": {},
   "source": [
    "# GET EXCHANGED METABOLITES WITHOUT PREFIX AND SUFFIX\n",
    "For iCN 718 metabolites analyses it is needed to retrieve exchanged metabolites without the prefix \"M_\" and compartment suffix. "
   ]
  },
  {
   "cell_type": "markdown",
   "metadata": {},
   "source": [
    "## **Slurm-based cluster**: Reproducing paper data\n",
    "Slurm-based scripts for cluster are available:\n",
    "- Launch if needed \n",
    "    - get sbml file from BiGG, see notebook:  [01_get_sbml_BiGG](01_get_sbml_BiGG.ipynb)\n",
    "- Change **_source_** variable by the path of your conda environement with seed2lp installed in files: \n",
    "    - [10_5_job_get_iCN718_exchange](../../scripts/slurm_cluster/10_5_job_get_iCN718_exchange.sh)\n",
    "- launch \n",
    "    - [10_5_job_get_iCN718_exchange](../../scripts/plafrim_cluster/10_5_job_get_iCN718_exchange.sh): `sbatch 10_5_job_get_iCN718_exchange.sh`\n"
   ]
  },
  {
   "cell_type": "code",
   "execution_count": 1,
   "metadata": {},
   "outputs": [],
   "source": [
    "file = \"../../scripts/10_5_get_exchange.py\""
   ]
  },
  {
   "cell_type": "code",
   "execution_count": 2,
   "metadata": {},
   "outputs": [],
   "source": [
    "species=\"iCN718\"\n",
    "data_dir=\"../../data\"\n",
    "sbml_dir = f\"{data_dir}/bigg/sbml\"\n",
    "sbml_file = f\"{sbml_dir}/{species}.xml\"\n",
    "result_dir=\"../../results\"\n",
    "output_dir=f\"{result_dir}/metabolites_{species}\""
   ]
  },
  {
   "cell_type": "code",
   "execution_count": 3,
   "metadata": {},
   "outputs": [
    {
     "name": "stdout",
     "output_type": "stream",
     "text": [
      "\u001b[0;96m\u001b[1m           \n",
      "                       _   ___    _   \n",
      "  ___   ___   ___   __| | |_  \\  | | _ __  \n",
      " / __| / _ \\ / _ \\ / _` |   ) |  | || '_ \\ \n",
      " \\__ \\|  __/|  __/| (_| |  / /_  | || |_) |\n",
      " |___/ \\___| \\___| \\__,_| |____| |_|| .__/    \n",
      "                                    |_|         \n",
      "      \u001b[0m\n"
     ]
    }
   ],
   "source": [
    "command_exch = f\"{file} {species} {sbml_file} {output_dir}\"\n",
    "\n",
    "!python {command_exch}"
   ]
  }
 ],
 "metadata": {
  "kernelspec": {
   "display_name": "test",
   "language": "python",
   "name": "python3"
  },
  "language_info": {
   "codemirror_mode": {
    "name": "ipython",
    "version": 3
   },
   "file_extension": ".py",
   "mimetype": "text/x-python",
   "name": "python",
   "nbconvert_exporter": "python",
   "pygments_lexer": "ipython3",
   "version": "3.10.14"
  }
 },
 "nbformat": 4,
 "nbformat_minor": 2
}
