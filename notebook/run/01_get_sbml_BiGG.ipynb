{
 "cells": [
  {
   "cell_type": "markdown",
   "metadata": {},
   "source": [
    "# BiGG SBML"
   ]
  },
  {
   "cell_type": "markdown",
   "metadata": {},
   "source": [
    "This notebook explains how to retrieve BiGG SBML file\n",
    "\n",
    "> Note:\n",
    ">\n",
    "> All SBML Files used in the paper are available: [https://doi.org/10.57745/OS1JND](https://doi.org/10.57745/OS1JND)\n",
    ">\n",
    "> After downloadind and unzipping the package, go to analyses/data/bigg/sbml\n",
    ">\n",
    "> iAT PLT 636.xml is removed from source files because of a lack of biomass reaction\n",
    "\n",
    "> Warning:\n",
    ">\n",
    "> To run the notbook it is needed to install Jupyter notebook (on a conda env is better):\n",
    ">\n",
    "> `pip install jupyter`\n",
    "\n",
    "> Note:\n",
    ">\n",
    "> Do not forget your conda environment (e.g. select python from conda env if using Visual Studio code or activate conda env then execute notebook by command line)"
   ]
  },
  {
   "cell_type": "markdown",
   "metadata": {},
   "source": [
    "## Requirements\n",
    "Module *requests* is needed"
   ]
  },
  {
   "cell_type": "code",
   "execution_count": null,
   "metadata": {},
   "outputs": [],
   "source": [
    "!pip install requests"
   ]
  },
  {
   "cell_type": "markdown",
   "metadata": {},
   "source": [
    "## **Slurm-based cluster**: Reproducing paper data\n",
    "Slurm-based scripts for cluster are available:\n",
    "- Change **_source_** variable by the path of your conda environement with seed2lp installed in files: \n",
    "    - [01_job_retrieve_bigg_sbml.sh](../../scripts/plafrim_cluster/01_job_retrieve_bigg_sbml.sh)\n",
    "- launch:\n",
    "    - [01_job_retrieve_bigg_sbml.sh](../../scripts/plafrim_cluster/01_job_retrieve_bigg_sbml.sh): `sbatch 01_job_retrieve_bigg_sbml.sh` "
   ]
  },
  {
   "cell_type": "markdown",
   "metadata": {},
   "source": [
    "## **LAUNCH**\n",
    "\n",
    "The python script is available on directory **_scripts_**: [01_retrieve_bigg_sbml.py](../../scripts/01_retrieve_bigg_sbml.py)"
   ]
  },
  {
   "cell_type": "markdown",
   "metadata": {},
   "source": [
    "### Variable to change (if wanted)"
   ]
  },
  {
   "cell_type": "code",
   "execution_count": 1,
   "metadata": {},
   "outputs": [],
   "source": [
    "analyse_dir = \"../../analyses\"\n",
    "data_dir  = f\"{analyse_dir}/data/\""
   ]
  },
  {
   "cell_type": "markdown",
   "metadata": {},
   "source": [
    "### Execute"
   ]
  },
  {
   "cell_type": "code",
   "execution_count": 2,
   "metadata": {},
   "outputs": [],
   "source": [
    "from os import path, makedirs, remove"
   ]
  },
  {
   "cell_type": "code",
   "execution_count": 5,
   "metadata": {},
   "outputs": [
    {
     "name": "stdout",
     "output_type": "stream",
     "text": [
      ">>> BIGG data import...\tDone.\n"
     ]
    }
   ],
   "source": [
    "file = \"../../scripts/01_retrieve_bigg_sbml.py\"\n",
    "\n",
    "if not path.isdir(data_dir):\n",
    "    makedirs(data_dir)\n",
    "    \n",
    "!python {file} {data_dir}"
   ]
  },
  {
   "cell_type": "markdown",
   "metadata": {},
   "source": [
    "Delete iAT PLT 636.xml file (no biomass referred)"
   ]
  },
  {
   "cell_type": "code",
   "execution_count": 4,
   "metadata": {},
   "outputs": [],
   "source": [
    "filepath=path.join(data_dir,\"bigg/sbml/iAT_PLT_636.xml\")\n",
    "remove(filepath)"
   ]
  }
 ],
 "metadata": {
  "kernelspec": {
   "display_name": "s2lp",
   "language": "python",
   "name": "python3"
  },
  "language_info": {
   "codemirror_mode": {
    "name": "ipython",
    "version": 3
   },
   "file_extension": ".py",
   "mimetype": "text/x-python",
   "name": "python",
   "nbconvert_exporter": "python",
   "pygments_lexer": "ipython3",
   "version": "3.11.9"
  }
 },
 "nbformat": 4,
 "nbformat_minor": 2
}
